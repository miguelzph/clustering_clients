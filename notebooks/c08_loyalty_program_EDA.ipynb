{
 "cells": [
  {
   "cell_type": "markdown",
   "id": "de9a0caa",
   "metadata": {},
   "source": [
    "# Planejamento da Solução"
   ]
  },
  {
   "cell_type": "markdown",
   "id": "7ca25f7a",
   "metadata": {},
   "source": [
    "## Input"
   ]
  },
  {
   "cell_type": "markdown",
   "id": "a94876d5",
   "metadata": {},
   "source": [
    "1. Problema de negócio\n",
    " - Selecionar os clientes mais valiosos para criar um programa de fidelidade\n",
    "2. Conjunto de dados\n",
    " - Vendas de e-commerce no período de um ano"
   ]
  },
  {
   "cell_type": "markdown",
   "id": "8152f234",
   "metadata": {},
   "source": [
    "## Output"
   ]
  },
  {
   "cell_type": "markdown",
   "id": "72949a3c",
   "metadata": {
    "ExecuteTime": {
     "end_time": "2022-04-07T17:49:15.382797Z",
     "start_time": "2022-04-07T17:49:15.372811Z"
    }
   },
   "source": [
    "1. <b>Indicação das pessoas que farão parte do programa de fidelidade\n",
    "    - Tabela com: <br>\n",
    "            |customer_id | is_insider| \n",
    "            |    1      |     yes   | \n",
    "            |    2      |     no    | \n",
    " \n",
    "2. <b>Responder as perguntas de negócio:\n",
    "    - Quem são as pessoas elegíveis para participar do programa de Insiders ?\n",
    "    - Quantos clientes farão parte do grupo?\n",
    "    - Quais as principais características desses clientes ?\n",
    "    - Qual a porcentagem de contribuição do faturamento, vinda do Insiders ?\n",
    "    - Qual a expectativa de faturamento desse grupo para os próximos meses ?\n",
    "    - Quais as condições para uma pessoa ser elegível ao Insiders ?\n",
    "    - Quais as condições para uma pessoa ser removida do Insiders ?\n",
    "    - Qual a garantia que o programa Insiders é melhor que o restante da base ?\n",
    "    - Quais ações o time de marketing pode realizar para aumentar o faturamento?"
   ]
  },
  {
   "cell_type": "markdown",
   "id": "02e1161e",
   "metadata": {},
   "source": [
    "## Tasks"
   ]
  },
  {
   "cell_type": "markdown",
   "id": "f846ef08",
   "metadata": {
    "ExecuteTime": {
     "end_time": "2022-04-07T17:56:05.224592Z",
     "start_time": "2022-04-07T17:56:05.203158Z"
    }
   },
   "source": [
    "1. Quem são as pessoas elegíveis para participar do programa de Insiders ?\n",
    "    - O que é ser elegível? O que são clientes de maior valor?\n",
    "    - Faturamento:\n",
    "        - Alto Ticket médio\n",
    "        - Alto LTV\n",
    "        - Baixa recência (compra mais frequentemente)\n",
    "        - Alto basket size (tamanho de cesta)\n",
    "        - Baixa probabilidade de churn (periodo que passa e não vai mais comprar)\n",
    "        - Alta previsão de LTV\n",
    "        - Alta propensão de compra\n",
    "    - Custo:\n",
    "        - Baixa taxa de devolução\n",
    "    - Experiência de compra:\n",
    "        - Alta média das avaliações\n",
    "        \n",
    "        \n",
    "2. Quantos clientes farão parte do grupo?\n",
    "    - Número total de clientes\n",
    "    - % do grupo Insiders\n",
    "    \n",
    "    \n",
    "3. Quais as principais características desses clientes ?\n",
    "    - Escrever características do cliente (podem ser utilizadas para busca clientes semelhantes)\n",
    "        - Idade\n",
    "        - Localização\n",
    "    - Escrever caacterísticas do consumo\n",
    "        - Atributos da clusterização\n",
    "        \n",
    "        \n",
    "4. Qual a porcentagem de contribuição do faturamento, vinda do Insiders ?\n",
    "    - Faturamento total do ano\n",
    "    - Faturamento do grupo Insiders\n",
    "    \n",
    "    \n",
    "5. Qual a expectativa de faturamento desse grupo para os próximos meses ?\n",
    "    - LTV do grupo Insiders\n",
    "    - Análise de Cohort (como um grupo de pessoas se comporta ao longo do tempo)\n",
    "        - Sabendo que pessoas que compram calça na primeira compram geram maior faturamento futuro, posso otimizar campanhas\n",
    "        - Pessoas da localidade X trazem maior faturamento \n",
    "    \n",
    "\n",
    "6. Quais as condições para uma pessoa ser elegível ao Insiders ?\n",
    "    - Definir a perodicidade (1 mes, 3 meses)\n",
    "    - A pessoa precisa ser similar com uma pessoa do grupo\n",
    "    \n",
    "\n",
    "7. Quais as condições para uma pessoa ser removida do Insiders ?\n",
    "    - Definir a perodicidade (1 mes, 3 meses)\n",
    "    - A pessoa precisa ser não parecida com uma pessoa do grupo (começa a se distanciar do cluster)\n",
    "\n",
    "\n",
    "8. Qual a garantia que o programa Insiders é melhor que o restante da base ?\n",
    "    - Teste A/B\n",
    "    - Teste A/B Bayesiano\n",
    "    - Teste de hipóteses\n",
    "\n",
    "9. Quais ações o time de marketing pode realizar para aumentar o faturamento?\n",
    "    - Desconto\n",
    "    - Preferência de compra\n",
    "    - Frete\n",
    "    - Visita a empresa\n"
   ]
  },
  {
   "cell_type": "markdown",
   "id": "530d09dc",
   "metadata": {},
   "source": [
    "# 0.0. IMPORTS"
   ]
  },
  {
   "cell_type": "code",
   "execution_count": 215,
   "id": "1d6be3b2",
   "metadata": {
    "ExecuteTime": {
     "end_time": "2022-05-26T19:53:27.195064Z",
     "start_time": "2022-05-26T19:53:27.172068Z"
    }
   },
   "outputs": [],
   "source": [
    "import pandas as pd\n",
    "import seaborn as sns\n",
    "import numpy as np\n",
    "\n",
    "import plotly.express as px\n",
    "\n",
    "from matplotlib import pyplot as plt\n",
    "from IPython.display import HTML\n",
    "from matplotlib import cm\n",
    "\n",
    "from inflection import underscore\n",
    "import pickle\n",
    "import re"
   ]
  },
  {
   "cell_type": "code",
   "execution_count": 216,
   "id": "fdbb9918",
   "metadata": {
    "ExecuteTime": {
     "end_time": "2022-05-26T19:53:27.212055Z",
     "start_time": "2022-05-26T19:53:27.201052Z"
    }
   },
   "outputs": [],
   "source": [
    "from pandas_profiling import ProfileReport"
   ]
  },
  {
   "cell_type": "code",
   "execution_count": 217,
   "id": "70714b6a",
   "metadata": {
    "ExecuteTime": {
     "end_time": "2022-05-26T19:53:27.226039Z",
     "start_time": "2022-05-26T19:53:27.217042Z"
    }
   },
   "outputs": [],
   "source": [
    "from sklearn import preprocessing as pp\n",
    "# PCA\n",
    "from sklearn import decomposition as dd\n",
    "# TSNE\n",
    "from sklearn.manifold import TSNE"
   ]
  },
  {
   "cell_type": "code",
   "execution_count": 218,
   "id": "cb596a9f",
   "metadata": {
    "ExecuteTime": {
     "end_time": "2022-05-26T19:53:27.242028Z",
     "start_time": "2022-05-26T19:53:27.234032Z"
    }
   },
   "outputs": [],
   "source": [
    "from sklearn import cluster as c\n",
    "from yellowbrick.cluster import KElbowVisualizer, SilhouetteVisualizer\n",
    "from sklearn import metrics as m\n",
    "from sklearn import ensemble as en"
   ]
  },
  {
   "cell_type": "code",
   "execution_count": 219,
   "id": "8dee0269",
   "metadata": {
    "ExecuteTime": {
     "end_time": "2022-05-26T19:53:27.258019Z",
     "start_time": "2022-05-26T19:53:27.248025Z"
    }
   },
   "outputs": [],
   "source": [
    "import umap.umap_ as ump"
   ]
  },
  {
   "cell_type": "markdown",
   "id": "40444089",
   "metadata": {},
   "source": [
    "## 0.1. Helper Functions"
   ]
  },
  {
   "cell_type": "code",
   "execution_count": 220,
   "id": "a059a3db",
   "metadata": {
    "ExecuteTime": {
     "end_time": "2022-05-26T19:53:27.306002Z",
     "start_time": "2022-05-26T19:53:27.265015Z"
    }
   },
   "outputs": [
    {
     "data": {
      "text/html": [
       "<style>.container { width:95% !important; } </style>"
      ],
      "text/plain": [
       "<IPython.core.display.HTML object>"
      ]
     },
     "metadata": {},
     "output_type": "display_data"
    }
   ],
   "source": [
    "def jupyter_settings():\n",
    "    %matplotlib inline\n",
    "    #%pylab inline\n",
    "    \n",
    "    plt.style.use( 'ggplot' )\n",
    "    plt.rcParams['figure.figsize'] = [16, 8]\n",
    "    plt.rcParams['font.size'] = 24\n",
    "    \n",
    "    display(HTML ('<style>.container { width:95% !important; } </style>'))\n",
    "    pd.options.display.max_columns = None\n",
    "    pd.options.display.max_rows=50\n",
    "    pd.set_option('display.expand_frame_repr', False)\n",
    "       \n",
    "    sns.set()\n",
    "    \n",
    "jupyter_settings()"
   ]
  },
  {
   "cell_type": "markdown",
   "id": "5d281400",
   "metadata": {},
   "source": [
    "## 0.2. Loading Data"
   ]
  },
  {
   "cell_type": "code",
   "execution_count": 221,
   "id": "a85e4f92",
   "metadata": {
    "ExecuteTime": {
     "end_time": "2022-05-26T19:53:29.523264Z",
     "start_time": "2022-05-26T19:53:27.311988Z"
    }
   },
   "outputs": [],
   "source": [
    "data_raw = pd.read_csv('../datasets/Ecommerce.csv',encoding='latin-1')\n",
    "data_raw.drop(columns=['Unnamed: 8'], inplace=True)"
   ]
  },
  {
   "cell_type": "markdown",
   "id": "709698ef",
   "metadata": {},
   "source": [
    "# 1.0. PASSO 01 - DATA DESCRIPTION"
   ]
  },
  {
   "cell_type": "code",
   "execution_count": 222,
   "id": "cae3f48f",
   "metadata": {
    "ExecuteTime": {
     "end_time": "2022-05-26T19:53:29.602219Z",
     "start_time": "2022-05-26T19:53:29.532260Z"
    }
   },
   "outputs": [
    {
     "data": {
      "text/html": [
       "<div>\n",
       "<style scoped>\n",
       "    .dataframe tbody tr th:only-of-type {\n",
       "        vertical-align: middle;\n",
       "    }\n",
       "\n",
       "    .dataframe tbody tr th {\n",
       "        vertical-align: top;\n",
       "    }\n",
       "\n",
       "    .dataframe thead th {\n",
       "        text-align: right;\n",
       "    }\n",
       "</style>\n",
       "<table border=\"1\" class=\"dataframe\">\n",
       "  <thead>\n",
       "    <tr style=\"text-align: right;\">\n",
       "      <th></th>\n",
       "      <th>InvoiceNo</th>\n",
       "      <th>StockCode</th>\n",
       "      <th>Description</th>\n",
       "      <th>Quantity</th>\n",
       "      <th>InvoiceDate</th>\n",
       "      <th>UnitPrice</th>\n",
       "      <th>CustomerID</th>\n",
       "      <th>Country</th>\n",
       "    </tr>\n",
       "  </thead>\n",
       "  <tbody>\n",
       "    <tr>\n",
       "      <th>0</th>\n",
       "      <td>536365</td>\n",
       "      <td>85123A</td>\n",
       "      <td>WHITE HANGING HEART T-LIGHT HOLDER</td>\n",
       "      <td>6</td>\n",
       "      <td>29-Nov-16</td>\n",
       "      <td>2.55</td>\n",
       "      <td>17850.0</td>\n",
       "      <td>United Kingdom</td>\n",
       "    </tr>\n",
       "    <tr>\n",
       "      <th>1</th>\n",
       "      <td>536365</td>\n",
       "      <td>71053</td>\n",
       "      <td>WHITE METAL LANTERN</td>\n",
       "      <td>6</td>\n",
       "      <td>29-Nov-16</td>\n",
       "      <td>3.39</td>\n",
       "      <td>17850.0</td>\n",
       "      <td>United Kingdom</td>\n",
       "    </tr>\n",
       "    <tr>\n",
       "      <th>2</th>\n",
       "      <td>536365</td>\n",
       "      <td>84406B</td>\n",
       "      <td>CREAM CUPID HEARTS COAT HANGER</td>\n",
       "      <td>8</td>\n",
       "      <td>29-Nov-16</td>\n",
       "      <td>2.75</td>\n",
       "      <td>17850.0</td>\n",
       "      <td>United Kingdom</td>\n",
       "    </tr>\n",
       "    <tr>\n",
       "      <th>3</th>\n",
       "      <td>536365</td>\n",
       "      <td>84029G</td>\n",
       "      <td>KNITTED UNION FLAG HOT WATER BOTTLE</td>\n",
       "      <td>6</td>\n",
       "      <td>29-Nov-16</td>\n",
       "      <td>3.39</td>\n",
       "      <td>17850.0</td>\n",
       "      <td>United Kingdom</td>\n",
       "    </tr>\n",
       "    <tr>\n",
       "      <th>4</th>\n",
       "      <td>536365</td>\n",
       "      <td>84029E</td>\n",
       "      <td>RED WOOLLY HOTTIE WHITE HEART.</td>\n",
       "      <td>6</td>\n",
       "      <td>29-Nov-16</td>\n",
       "      <td>3.39</td>\n",
       "      <td>17850.0</td>\n",
       "      <td>United Kingdom</td>\n",
       "    </tr>\n",
       "  </tbody>\n",
       "</table>\n",
       "</div>"
      ],
      "text/plain": [
       "  InvoiceNo StockCode                          Description  Quantity InvoiceDate  UnitPrice  CustomerID         Country\n",
       "0    536365    85123A   WHITE HANGING HEART T-LIGHT HOLDER         6   29-Nov-16       2.55     17850.0  United Kingdom\n",
       "1    536365     71053                  WHITE METAL LANTERN         6   29-Nov-16       3.39     17850.0  United Kingdom\n",
       "2    536365    84406B       CREAM CUPID HEARTS COAT HANGER         8   29-Nov-16       2.75     17850.0  United Kingdom\n",
       "3    536365    84029G  KNITTED UNION FLAG HOT WATER BOTTLE         6   29-Nov-16       3.39     17850.0  United Kingdom\n",
       "4    536365    84029E       RED WOOLLY HOTTIE WHITE HEART.         6   29-Nov-16       3.39     17850.0  United Kingdom"
      ]
     },
     "execution_count": 222,
     "metadata": {},
     "output_type": "execute_result"
    }
   ],
   "source": [
    "df1 = data_raw.copy()\n",
    "df1.head()"
   ]
  },
  {
   "cell_type": "markdown",
   "id": "b0d6a9db",
   "metadata": {
    "ExecuteTime": {
     "end_time": "2021-12-29T20:33:28.747283Z",
     "start_time": "2021-12-29T20:33:27.759990Z"
    }
   },
   "source": [
    "## 1.1. Rename Columns"
   ]
  },
  {
   "cell_type": "code",
   "execution_count": 223,
   "id": "f432e400",
   "metadata": {
    "ExecuteTime": {
     "end_time": "2022-05-26T19:53:29.618210Z",
     "start_time": "2022-05-26T19:53:29.606218Z"
    }
   },
   "outputs": [],
   "source": [
    "df1.columns = df1.columns.to_series().apply(underscore)"
   ]
  },
  {
   "cell_type": "markdown",
   "id": "a7451640",
   "metadata": {
    "ExecuteTime": {
     "end_time": "2021-12-29T20:33:28.747283Z",
     "start_time": "2021-12-29T20:33:27.759990Z"
    }
   },
   "source": [
    "## 1.2. Data Dimensions"
   ]
  },
  {
   "cell_type": "code",
   "execution_count": 224,
   "id": "9ffd3d7b",
   "metadata": {
    "ExecuteTime": {
     "end_time": "2022-05-26T19:53:29.634202Z",
     "start_time": "2022-05-26T19:53:29.622208Z"
    },
    "scrolled": true
   },
   "outputs": [
    {
     "name": "stdout",
     "output_type": "stream",
     "text": [
      "Counting 541909 rows and 8 columns\n"
     ]
    }
   ],
   "source": [
    "print(f'Counting {df1.shape[0]} rows and {df1.shape[1]} columns')"
   ]
  },
  {
   "cell_type": "markdown",
   "id": "83e82098",
   "metadata": {
    "ExecuteTime": {
     "end_time": "2021-12-29T20:33:28.747283Z",
     "start_time": "2021-12-29T20:33:27.759990Z"
    }
   },
   "source": [
    "## 1.3. Data Types"
   ]
  },
  {
   "cell_type": "code",
   "execution_count": 225,
   "id": "2777e610",
   "metadata": {
    "ExecuteTime": {
     "end_time": "2022-05-26T19:53:29.664184Z",
     "start_time": "2022-05-26T19:53:29.637200Z"
    }
   },
   "outputs": [
    {
     "data": {
      "text/plain": [
       "invoice_no       object\n",
       "stock_code       object\n",
       "description      object\n",
       "quantity          int64\n",
       "invoice_date     object\n",
       "unit_price      float64\n",
       "customer_id     float64\n",
       "country          object\n",
       "dtype: object"
      ]
     },
     "execution_count": 225,
     "metadata": {},
     "output_type": "execute_result"
    }
   ],
   "source": [
    "df1.dtypes"
   ]
  },
  {
   "cell_type": "markdown",
   "id": "186fbf9a",
   "metadata": {
    "ExecuteTime": {
     "end_time": "2021-12-29T20:33:28.747283Z",
     "start_time": "2021-12-29T20:33:27.759990Z"
    }
   },
   "source": [
    "## 1.4. Check NA"
   ]
  },
  {
   "cell_type": "code",
   "execution_count": 226,
   "id": "f5412dbe",
   "metadata": {
    "ExecuteTime": {
     "end_time": "2022-05-26T19:53:30.658316Z",
     "start_time": "2022-05-26T19:53:29.667182Z"
    }
   },
   "outputs": [
    {
     "data": {
      "text/plain": [
       "invoice_no           0\n",
       "stock_code           0\n",
       "description       1454\n",
       "quantity             0\n",
       "invoice_date         0\n",
       "unit_price           0\n",
       "customer_id     135080\n",
       "country              0\n",
       "dtype: int64"
      ]
     },
     "execution_count": 226,
     "metadata": {},
     "output_type": "execute_result"
    }
   ],
   "source": [
    "df1.isna().sum()"
   ]
  },
  {
   "cell_type": "markdown",
   "id": "818e4bd7",
   "metadata": {
    "ExecuteTime": {
     "end_time": "2021-12-29T20:33:28.747283Z",
     "start_time": "2021-12-29T20:33:27.759990Z"
    }
   },
   "source": [
    "## 1.5. Fillout NA's"
   ]
  },
  {
   "cell_type": "code",
   "execution_count": 227,
   "id": "d140ee0b",
   "metadata": {
    "ExecuteTime": {
     "end_time": "2022-05-26T19:53:30.765254Z",
     "start_time": "2022-05-26T19:53:30.667314Z"
    }
   },
   "outputs": [
    {
     "data": {
      "text/plain": [
       "(135080, 8)"
      ]
     },
     "execution_count": 227,
     "metadata": {},
     "output_type": "execute_result"
    }
   ],
   "source": [
    "df_missing = df1.loc[df1['customer_id'].isna()]\n",
    "df_missing.shape"
   ]
  },
  {
   "cell_type": "code",
   "execution_count": 228,
   "id": "e8e1cb1a",
   "metadata": {
    "ExecuteTime": {
     "end_time": "2022-05-26T19:53:31.000120Z",
     "start_time": "2022-05-26T19:53:30.773251Z"
    }
   },
   "outputs": [
    {
     "data": {
      "text/plain": [
       "(406829, 8)"
      ]
     },
     "execution_count": 228,
     "metadata": {},
     "output_type": "execute_result"
    }
   ],
   "source": [
    "df_not_missing = df1.loc[~df1['customer_id'].isna()]\n",
    "df_not_missing.shape"
   ]
  },
  {
   "cell_type": "code",
   "execution_count": 229,
   "id": "66c863c7",
   "metadata": {
    "ExecuteTime": {
     "end_time": "2022-05-26T19:53:31.190573Z",
     "start_time": "2022-05-26T19:53:31.005118Z"
    }
   },
   "outputs": [
    {
     "data": {
      "text/html": [
       "<div>\n",
       "<style scoped>\n",
       "    .dataframe tbody tr th:only-of-type {\n",
       "        vertical-align: middle;\n",
       "    }\n",
       "\n",
       "    .dataframe tbody tr th {\n",
       "        vertical-align: top;\n",
       "    }\n",
       "\n",
       "    .dataframe thead th {\n",
       "        text-align: right;\n",
       "    }\n",
       "</style>\n",
       "<table border=\"1\" class=\"dataframe\">\n",
       "  <thead>\n",
       "    <tr style=\"text-align: right;\">\n",
       "      <th></th>\n",
       "      <th>invoice_no</th>\n",
       "      <th>stock_code</th>\n",
       "      <th>description</th>\n",
       "      <th>quantity</th>\n",
       "      <th>invoice_date</th>\n",
       "      <th>unit_price</th>\n",
       "      <th>customer_id</th>\n",
       "      <th>country</th>\n",
       "    </tr>\n",
       "  </thead>\n",
       "  <tbody>\n",
       "  </tbody>\n",
       "</table>\n",
       "</div>"
      ],
      "text/plain": [
       "Empty DataFrame\n",
       "Columns: [invoice_no, stock_code, description, quantity, invoice_date, unit_price, customer_id, country]\n",
       "Index: []"
      ]
     },
     "execution_count": 229,
     "metadata": {},
     "output_type": "execute_result"
    }
   ],
   "source": [
    "# looking for invoice_no with missing customer_id in df_not_missing\n",
    "list_of_invoice_missing = list(df_missing['invoice_no'].unique())\n",
    "df_not_missing[df_not_missing['invoice_no'].isin(list_of_invoice_missing)]"
   ]
  },
  {
   "cell_type": "code",
   "execution_count": 230,
   "id": "142f91fa",
   "metadata": {
    "ExecuteTime": {
     "end_time": "2022-05-26T19:53:31.722347Z",
     "start_time": "2022-05-26T19:53:31.204566Z"
    }
   },
   "outputs": [],
   "source": [
    "# Feito--> Preencher os customer_id's com id's a partir de 19000 (linhas com o mesmo invoice_no são do mesmo customer_id)\n",
    "df_for_fill_customer = pd.DataFrame({'invoice_no':list_of_invoice_missing})\n",
    "df_for_fill_customer['customer_id'] = df_for_fill_customer.index+19000\n",
    "\n",
    "df_missing = df_missing.merge(df_for_fill_customer, on='invoice_no', how='left', \n",
    "                             suffixes=('_delete','')).drop(columns=['customer_id_delete'])\n",
    "\n",
    "df1 = pd.concat([df_not_missing, df_missing]).reset_index(drop=True)\n",
    "\n",
    "\n",
    "# # outro método --> faz o merge do df1 e do df_for_fill_customer e depois usa o coalesce :\n",
    "# df1['customer_id'] = df1['customer_id_x'].combine_first(df1['customer_id'_y])"
   ]
  },
  {
   "cell_type": "code",
   "execution_count": 231,
   "id": "13e3ef55",
   "metadata": {
    "ExecuteTime": {
     "end_time": "2022-05-26T19:53:32.599842Z",
     "start_time": "2022-05-26T19:53:31.727342Z"
    }
   },
   "outputs": [
    {
     "data": {
      "text/plain": [
       "invoice_no         0\n",
       "stock_code         0\n",
       "description     1454\n",
       "quantity           0\n",
       "invoice_date       0\n",
       "unit_price         0\n",
       "customer_id        0\n",
       "country            0\n",
       "dtype: int64"
      ]
     },
     "execution_count": 231,
     "metadata": {},
     "output_type": "execute_result"
    }
   ],
   "source": [
    "df1.isna().sum()"
   ]
  },
  {
   "cell_type": "markdown",
   "id": "b261724e",
   "metadata": {
    "ExecuteTime": {
     "end_time": "2021-12-29T20:33:28.747283Z",
     "start_time": "2021-12-29T20:33:27.759990Z"
    }
   },
   "source": [
    "## 1.6. Verifying Types"
   ]
  },
  {
   "cell_type": "code",
   "execution_count": 232,
   "id": "daa35df8",
   "metadata": {
    "ExecuteTime": {
     "end_time": "2022-05-26T19:53:32.837704Z",
     "start_time": "2022-05-26T19:53:32.603838Z"
    }
   },
   "outputs": [
    {
     "data": {
      "text/plain": [
       "invoice_no              object\n",
       "stock_code              object\n",
       "description             object\n",
       "quantity                 int64\n",
       "invoice_date    datetime64[ns]\n",
       "unit_price             float64\n",
       "customer_id              int64\n",
       "country                 object\n",
       "dtype: object"
      ]
     },
     "execution_count": 232,
     "metadata": {},
     "output_type": "execute_result"
    }
   ],
   "source": [
    "# invoice date\n",
    "df1['invoice_date'] = pd.to_datetime(df1['invoice_date'], format='%d-%b-%y')\n",
    "\n",
    "# customer_id \n",
    "df1['customer_id'] = df1['customer_id'].astype('int64')\n",
    "\n",
    "df1.dtypes"
   ]
  },
  {
   "cell_type": "markdown",
   "id": "18cbf32d",
   "metadata": {
    "ExecuteTime": {
     "end_time": "2021-12-29T20:33:28.747283Z",
     "start_time": "2021-12-29T20:33:27.759990Z"
    }
   },
   "source": [
    "## 1.7. Descriptive Statistics"
   ]
  },
  {
   "cell_type": "code",
   "execution_count": 233,
   "id": "66d47243",
   "metadata": {
    "ExecuteTime": {
     "end_time": "2022-05-26T19:53:32.853695Z",
     "start_time": "2022-05-26T19:53:32.840703Z"
    }
   },
   "outputs": [],
   "source": [
    "num_attributes = df1.select_dtypes(include=['int64', 'float64'])\n",
    "cat_attributes = df1.select_dtypes(exclude=['int64', 'float64', 'datetime64[ns]'])"
   ]
  },
  {
   "cell_type": "markdown",
   "id": "7740a9f7",
   "metadata": {
    "ExecuteTime": {
     "end_time": "2021-12-29T20:33:28.747283Z",
     "start_time": "2021-12-29T20:33:27.759990Z"
    }
   },
   "source": [
    "### 1.7.1. Numerical Attributes"
   ]
  },
  {
   "cell_type": "code",
   "execution_count": 234,
   "id": "85983875",
   "metadata": {
    "ExecuteTime": {
     "end_time": "2022-05-26T19:53:33.336417Z",
     "start_time": "2022-05-26T19:53:32.857695Z"
    },
    "scrolled": true
   },
   "outputs": [
    {
     "data": {
      "text/html": [
       "<div>\n",
       "<style scoped>\n",
       "    .dataframe tbody tr th:only-of-type {\n",
       "        vertical-align: middle;\n",
       "    }\n",
       "\n",
       "    .dataframe tbody tr th {\n",
       "        vertical-align: top;\n",
       "    }\n",
       "\n",
       "    .dataframe thead th {\n",
       "        text-align: right;\n",
       "    }\n",
       "</style>\n",
       "<table border=\"1\" class=\"dataframe\">\n",
       "  <thead>\n",
       "    <tr style=\"text-align: right;\">\n",
       "      <th></th>\n",
       "      <th>attribute</th>\n",
       "      <th>min</th>\n",
       "      <th>max</th>\n",
       "      <th>range</th>\n",
       "      <th>mean</th>\n",
       "      <th>median</th>\n",
       "      <th>std</th>\n",
       "      <th>skew</th>\n",
       "      <th>kurtosis</th>\n",
       "    </tr>\n",
       "  </thead>\n",
       "  <tbody>\n",
       "    <tr>\n",
       "      <th>0</th>\n",
       "      <td>quantity</td>\n",
       "      <td>-80995.00</td>\n",
       "      <td>80995.0</td>\n",
       "      <td>161990.00</td>\n",
       "      <td>9.552250</td>\n",
       "      <td>3.00</td>\n",
       "      <td>218.081158</td>\n",
       "      <td>2.557763</td>\n",
       "      <td>6.880051</td>\n",
       "    </tr>\n",
       "    <tr>\n",
       "      <th>1</th>\n",
       "      <td>unit_price</td>\n",
       "      <td>-11062.06</td>\n",
       "      <td>38970.0</td>\n",
       "      <td>50032.06</td>\n",
       "      <td>4.611114</td>\n",
       "      <td>2.08</td>\n",
       "      <td>96.759853</td>\n",
       "      <td>2.795606</td>\n",
       "      <td>7.854019</td>\n",
       "    </tr>\n",
       "    <tr>\n",
       "      <th>2</th>\n",
       "      <td>customer_id</td>\n",
       "      <td>12346.00</td>\n",
       "      <td>22709.0</td>\n",
       "      <td>10363.00</td>\n",
       "      <td>16688.840453</td>\n",
       "      <td>16249.00</td>\n",
       "      <td>2911.411352</td>\n",
       "      <td>2.823097</td>\n",
       "      <td>7.977626</td>\n",
       "    </tr>\n",
       "  </tbody>\n",
       "</table>\n",
       "</div>"
      ],
      "text/plain": [
       "     attribute       min      max      range          mean    median          std      skew  kurtosis\n",
       "0     quantity -80995.00  80995.0  161990.00      9.552250      3.00   218.081158  2.557763  6.880051\n",
       "1   unit_price -11062.06  38970.0   50032.06      4.611114      2.08    96.759853  2.795606  7.854019\n",
       "2  customer_id  12346.00  22709.0   10363.00  16688.840453  16249.00  2911.411352  2.823097  7.977626"
      ]
     },
     "execution_count": 234,
     "metadata": {},
     "output_type": "execute_result"
    }
   ],
   "source": [
    "df_num_attibutes = num_attributes.describe()\n",
    "\n",
    "df_num_attibutes.loc['kurtosis',] = num_attributes.describe().kurtosis().values\n",
    "df_num_attibutes.loc['skew'] = num_attributes.describe().skew().values\n",
    "\n",
    "df_num_attibutes = df_num_attibutes.T\n",
    "\n",
    "df_num_attibutes['range'] = df_num_attibutes['max'] - df_num_attibutes['min']\n",
    "\n",
    "df_num_attibutes = df_num_attibutes[['min', 'max', 'range', 'mean' , '50%', 'std', \n",
    "                  'skew', 'kurtosis']].reset_index().rename(columns={'index': 'attribute', '50%': 'median'})\n",
    "\n",
    "df_num_attibutes"
   ]
  },
  {
   "cell_type": "markdown",
   "id": "c8673eb5",
   "metadata": {
    "ExecuteTime": {
     "end_time": "2021-12-29T20:33:28.747283Z",
     "start_time": "2021-12-29T20:33:27.759990Z"
    }
   },
   "source": [
    "#### 1.7.1. Numerical Attributes - Looking for errors\n",
    "\n",
    "1. Quantity negativo --> Pode ser devolução\n",
    "\n",
    "2. unit_price igual a 0 --> promoção? "
   ]
  },
  {
   "cell_type": "code",
   "execution_count": 235,
   "id": "a42c5bec",
   "metadata": {
    "ExecuteTime": {
     "end_time": "2022-05-26T19:53:33.445366Z",
     "start_time": "2022-05-26T19:53:33.339418Z"
    }
   },
   "outputs": [
    {
     "name": "stdout",
     "output_type": "stream",
     "text": [
      "10624 rows with quantity < 0\n",
      "2515 rows with unit_price = 0 --> will be deleted\n"
     ]
    }
   ],
   "source": [
    "# quantity < 0 --> aparenta ser devolução/descontos/etc --> separar entre compras e retornos\n",
    "print(f\"{df1[df1['quantity'] <0].count().values[0]} rows with quantity < 0\")\n",
    "\n",
    "# unit_price == 0 --> nao vi razão aparente, então vou considerar com erro e deleta-las\n",
    "print(f\"{df1[df1['unit_price'] ==0].count().values[0]} rows with unit_price = 0 --> will be deleted\")"
   ]
  },
  {
   "cell_type": "markdown",
   "id": "e2d07a94",
   "metadata": {
    "ExecuteTime": {
     "end_time": "2021-12-29T20:33:28.747283Z",
     "start_time": "2021-12-29T20:33:27.759990Z"
    }
   },
   "source": [
    "### 1.7.1. Categorical Attributes"
   ]
  },
  {
   "cell_type": "code",
   "execution_count": 236,
   "id": "0fd861a8",
   "metadata": {
    "ExecuteTime": {
     "end_time": "2022-05-26T19:53:33.477340Z",
     "start_time": "2022-05-26T19:53:33.451352Z"
    }
   },
   "outputs": [
    {
     "data": {
      "text/html": [
       "<div>\n",
       "<style scoped>\n",
       "    .dataframe tbody tr th:only-of-type {\n",
       "        vertical-align: middle;\n",
       "    }\n",
       "\n",
       "    .dataframe tbody tr th {\n",
       "        vertical-align: top;\n",
       "    }\n",
       "\n",
       "    .dataframe thead th {\n",
       "        text-align: right;\n",
       "    }\n",
       "</style>\n",
       "<table border=\"1\" class=\"dataframe\">\n",
       "  <thead>\n",
       "    <tr style=\"text-align: right;\">\n",
       "      <th></th>\n",
       "      <th>invoice_no</th>\n",
       "      <th>stock_code</th>\n",
       "      <th>description</th>\n",
       "      <th>country</th>\n",
       "    </tr>\n",
       "  </thead>\n",
       "  <tbody>\n",
       "    <tr>\n",
       "      <th>0</th>\n",
       "      <td>536365</td>\n",
       "      <td>85123A</td>\n",
       "      <td>WHITE HANGING HEART T-LIGHT HOLDER</td>\n",
       "      <td>United Kingdom</td>\n",
       "    </tr>\n",
       "    <tr>\n",
       "      <th>1</th>\n",
       "      <td>536365</td>\n",
       "      <td>71053</td>\n",
       "      <td>WHITE METAL LANTERN</td>\n",
       "      <td>United Kingdom</td>\n",
       "    </tr>\n",
       "    <tr>\n",
       "      <th>2</th>\n",
       "      <td>536365</td>\n",
       "      <td>84406B</td>\n",
       "      <td>CREAM CUPID HEARTS COAT HANGER</td>\n",
       "      <td>United Kingdom</td>\n",
       "    </tr>\n",
       "    <tr>\n",
       "      <th>3</th>\n",
       "      <td>536365</td>\n",
       "      <td>84029G</td>\n",
       "      <td>KNITTED UNION FLAG HOT WATER BOTTLE</td>\n",
       "      <td>United Kingdom</td>\n",
       "    </tr>\n",
       "    <tr>\n",
       "      <th>4</th>\n",
       "      <td>536365</td>\n",
       "      <td>84029E</td>\n",
       "      <td>RED WOOLLY HOTTIE WHITE HEART.</td>\n",
       "      <td>United Kingdom</td>\n",
       "    </tr>\n",
       "  </tbody>\n",
       "</table>\n",
       "</div>"
      ],
      "text/plain": [
       "  invoice_no stock_code                          description         country\n",
       "0     536365     85123A   WHITE HANGING HEART T-LIGHT HOLDER  United Kingdom\n",
       "1     536365      71053                  WHITE METAL LANTERN  United Kingdom\n",
       "2     536365     84406B       CREAM CUPID HEARTS COAT HANGER  United Kingdom\n",
       "3     536365     84029G  KNITTED UNION FLAG HOT WATER BOTTLE  United Kingdom\n",
       "4     536365     84029E       RED WOOLLY HOTTIE WHITE HEART.  United Kingdom"
      ]
     },
     "execution_count": 236,
     "metadata": {},
     "output_type": "execute_result"
    }
   ],
   "source": [
    "cat_attributes.head()"
   ]
  },
  {
   "cell_type": "markdown",
   "id": "70b64c2c",
   "metadata": {},
   "source": [
    "#### invoice no"
   ]
  },
  {
   "cell_type": "code",
   "execution_count": 237,
   "id": "11536dcc",
   "metadata": {
    "ExecuteTime": {
     "end_time": "2022-05-26T19:53:34.873538Z",
     "start_time": "2022-05-26T19:53:33.485333Z"
    },
    "code_folding": [],
    "scrolled": true
   },
   "outputs": [
    {
     "name": "stdout",
     "output_type": "stream",
     "text": [
      "9291 rows invoice_no with letters\n",
      "3839 unique invoice_no with letters\n"
     ]
    }
   ],
   "source": [
    "# invoice no\n",
    "letter_index_invoice = cat_attributes['invoice_no'].apply(lambda x: True if re.search('[A-Za-z]',x) != None else False)\n",
    "print(f\"{len(cat_attributes.loc[letter_index_invoice, 'invoice_no'])} rows invoice_no with letters\")\n",
    "print(f\"{len(cat_attributes.loc[letter_index_invoice, 'invoice_no'].unique())} unique invoice_no with letters\")"
   ]
  },
  {
   "cell_type": "markdown",
   "id": "1fcde6f2",
   "metadata": {},
   "source": [
    "#### stock code"
   ]
  },
  {
   "cell_type": "code",
   "execution_count": 238,
   "id": "aea4670b",
   "metadata": {
    "ExecuteTime": {
     "end_time": "2022-05-26T19:53:36.366193Z",
     "start_time": "2022-05-26T19:53:34.880535Z"
    }
   },
   "outputs": [
    {
     "name": "stdout",
     "output_type": "stream",
     "text": [
      "['POST', 'D', 'M', 'BANK CHARGES', 'PADS', 'DOT', 'CRUK', 'S', 'AMAZONFEE', 'm', 'DCGSSBOY', 'DCGSSGIRL', 'B']\n"
     ]
    }
   ],
   "source": [
    "# stock code\n",
    "only_letters_stock = cat_attributes['stock_code'].apply(lambda x: True if re.search('^[A-Z a-z]+$',x) != None else False)\n",
    "print(list(cat_attributes.loc[only_letters_stock,'stock_code'].unique()))\n",
    "\n",
    "# Ação --> Por enquanto retirar ['POST', 'D', 'M', 'BANK CHARGES', 'PADS', 'DOT',\n",
    "# 'CRUK', 'S', 'AMAZONFEE', 'm', 'DCGSSBOY', 'DCGSSGIRL', 'B'] --> não vou considerar compras"
   ]
  },
  {
   "cell_type": "code",
   "execution_count": 239,
   "id": "18973ed1",
   "metadata": {
    "ExecuteTime": {
     "end_time": "2022-05-26T19:53:37.747027Z",
     "start_time": "2022-05-26T19:53:36.370193Z"
    }
   },
   "outputs": [
    {
     "name": "stdout",
     "output_type": "stream",
     "text": [
      "1124 unique stock_code with letters\n",
      "\n",
      "['72349B' '85183B' '85199L' '35815P' '85014B'] ...\n"
     ]
    }
   ],
   "source": [
    "at_least_oneletter_stock = cat_attributes['stock_code'].apply(lambda x: True if re.search('[A-Za-z]',x) != None else False)\n",
    "print(f\"{len(cat_attributes.loc[at_least_oneletter_stock, 'stock_code'].unique())} unique stock_code with letters\\n\")\n",
    "print(f\"{cat_attributes.loc[at_least_oneletter_stock, 'stock_code'].sample(5).values} ...\")"
   ]
  },
  {
   "cell_type": "markdown",
   "id": "51ae8169",
   "metadata": {},
   "source": [
    "#### description"
   ]
  },
  {
   "cell_type": "code",
   "execution_count": 240,
   "id": "03935c76",
   "metadata": {
    "ExecuteTime": {
     "end_time": "2022-05-26T19:53:37.763021Z",
     "start_time": "2022-05-26T19:53:37.751026Z"
    }
   },
   "outputs": [],
   "source": [
    "# Ação --> Deletar description"
   ]
  },
  {
   "cell_type": "markdown",
   "id": "e02d5e48",
   "metadata": {},
   "source": [
    "#### country"
   ]
  },
  {
   "cell_type": "code",
   "execution_count": 241,
   "id": "04411069",
   "metadata": {
    "ExecuteTime": {
     "end_time": "2022-05-26T19:53:37.886948Z",
     "start_time": "2022-05-26T19:53:37.766017Z"
    }
   },
   "outputs": [
    {
     "data": {
      "text/plain": [
       "United Kingdom          0.914320\n",
       "Germany                 0.017521\n",
       "France                  0.015790\n",
       "EIRE                    0.015124\n",
       "Spain                   0.004674\n",
       "Netherlands             0.004375\n",
       "Belgium                 0.003818\n",
       "Switzerland             0.003694\n",
       "Portugal                0.002803\n",
       "Australia               0.002323\n",
       "Norway                  0.002004\n",
       "Italy                   0.001482\n",
       "Channel Islands         0.001399\n",
       "Finland                 0.001283\n",
       "Cyprus                  0.001148\n",
       "Sweden                  0.000853\n",
       "Unspecified             0.000823\n",
       "Austria                 0.000740\n",
       "Denmark                 0.000718\n",
       "Japan                   0.000661\n",
       "Poland                  0.000629\n",
       "Israel                  0.000548\n",
       "USA                     0.000537\n",
       "Hong Kong               0.000531\n",
       "Singapore               0.000423\n",
       "Iceland                 0.000336\n",
       "Canada                  0.000279\n",
       "Greece                  0.000269\n",
       "Malta                   0.000234\n",
       "United Arab Emirates    0.000125\n",
       "European Community      0.000113\n",
       "RSA                     0.000107\n",
       "Lebanon                 0.000083\n",
       "Lithuania               0.000065\n",
       "Brazil                  0.000059\n",
       "Czech Republic          0.000055\n",
       "Bahrain                 0.000035\n",
       "Saudi Arabia            0.000018\n",
       "Name: country, dtype: float64"
      ]
     },
     "execution_count": 241,
     "metadata": {},
     "output_type": "execute_result"
    }
   ],
   "source": [
    "# Ação --> Deletar European Community e Unspecified\n",
    "# Todo --> Tentar alterar os nomes \n",
    "cat_attributes['country'].value_counts(normalize=True)"
   ]
  },
  {
   "cell_type": "markdown",
   "id": "a181fbb1",
   "metadata": {},
   "source": [
    "# 2.0. PASSO 02 - FILTRAGEM DE VARIÁVEIS"
   ]
  },
  {
   "cell_type": "code",
   "execution_count": 242,
   "id": "371f7060",
   "metadata": {
    "ExecuteTime": {
     "end_time": "2022-05-26T19:53:37.949912Z",
     "start_time": "2022-05-26T19:53:37.901940Z"
    }
   },
   "outputs": [],
   "source": [
    "df2 = df1.copy()"
   ]
  },
  {
   "cell_type": "code",
   "execution_count": 243,
   "id": "d314a01e",
   "metadata": {
    "ExecuteTime": {
     "end_time": "2022-05-26T19:53:38.107003Z",
     "start_time": "2022-05-26T19:53:37.953093Z"
    }
   },
   "outputs": [],
   "source": [
    "### Removing Customers ###\n",
    "df2 = df2[~df2['customer_id'].isin([12346, 16446])] # praticamente devolveu tudo que comprou + de 70_000 produtos "
   ]
  },
  {
   "cell_type": "code",
   "execution_count": 244,
   "id": "09ef0bce",
   "metadata": {
    "ExecuteTime": {
     "end_time": "2022-05-26T19:53:38.454442Z",
     "start_time": "2022-05-26T19:53:38.113002Z"
    }
   },
   "outputs": [],
   "source": [
    "### Categorical Attibutes ###\n",
    "# stock code != ['POST', 'D', 'M', 'DOT', 'CRUK']\n",
    "df2 = df2[~df2['stock_code'].isin(['POST', 'D', 'M', 'BANK CHARGES', 'PADS', 'DOT', 'CRUK', \n",
    "                                   'S', 'AMAZONFEE', 'm', 'DCGSSBOY', 'DCGSSGIRL', 'B'])]\n",
    "\n",
    "# description\n",
    "df2 = df2.drop(columns=['description'])\n",
    "\n",
    "# country\n",
    "df2 = df2[~df2['country'].isin(['European Community', 'Unspecified'])]"
   ]
  },
  {
   "cell_type": "code",
   "execution_count": 245,
   "id": "f570cbb4",
   "metadata": {
    "ExecuteTime": {
     "end_time": "2022-05-26T19:53:38.655328Z",
     "start_time": "2022-05-26T19:53:38.457442Z"
    }
   },
   "outputs": [],
   "source": [
    "### Numerical Attibutes ###\n",
    "\n",
    "# unit_price\n",
    "# df2.loc[df2['unit_price'] > 0.01, :].sort_values('unit_price', ascending=True)\n",
    "df2 = df2.loc[df2['unit_price'] > 0.01, :]\n",
    "\n",
    "# quantity\n",
    "df_purchases = df2.loc[df2['quantity'] > 0]\n",
    "df_returns = df2.loc[df2['quantity'] < 0]"
   ]
  },
  {
   "cell_type": "markdown",
   "id": "b961e9b7",
   "metadata": {},
   "source": [
    "# 3.0. PASSO 03 - FEATURE ENGINEERING"
   ]
  },
  {
   "cell_type": "code",
   "execution_count": 246,
   "id": "5f3a86b7",
   "metadata": {
    "ExecuteTime": {
     "end_time": "2022-05-26T19:53:38.717571Z",
     "start_time": "2022-05-26T19:53:38.658326Z"
    }
   },
   "outputs": [],
   "source": [
    "df3 = df2.copy()"
   ]
  },
  {
   "cell_type": "markdown",
   "id": "14e892c3",
   "metadata": {},
   "source": [
    "## 3.1. Feature Engineering"
   ]
  },
  {
   "cell_type": "code",
   "execution_count": 247,
   "id": "018ff025",
   "metadata": {
    "ExecuteTime": {
     "end_time": "2022-05-26T19:53:38.827528Z",
     "start_time": "2022-05-26T19:53:38.721569Z"
    }
   },
   "outputs": [],
   "source": [
    "# creating a reference dataframe --> only id's\n",
    "df_reference = df3[['customer_id']].drop_duplicates(ignore_index=True)"
   ]
  },
  {
   "cell_type": "markdown",
   "id": "d1adb73d",
   "metadata": {},
   "source": [
    "### 3.1.1. Revenue"
   ]
  },
  {
   "cell_type": "code",
   "execution_count": 248,
   "id": "a4675752",
   "metadata": {
    "ExecuteTime": {
     "end_time": "2022-05-26T19:53:42.001086Z",
     "start_time": "2022-05-26T19:53:38.832511Z"
    }
   },
   "outputs": [
    {
     "name": "stderr",
     "output_type": "stream",
     "text": [
      "C:\\Users\\Miguel\\AppData\\Local\\Temp\\ipykernel_6080\\2578962312.py:2: SettingWithCopyWarning: \n",
      "A value is trying to be set on a copy of a slice from a DataFrame.\n",
      "Try using .loc[row_indexer,col_indexer] = value instead\n",
      "\n",
      "See the caveats in the documentation: https://pandas.pydata.org/pandas-docs/stable/user_guide/indexing.html#returning-a-view-versus-a-copy\n",
      "  df_purchases.loc[:, 'revenue'] = (df_purchases['quantity'] * df_purchases['unit_price'])\n"
     ]
    }
   ],
   "source": [
    "# Revenue --> Faturamento --> Quantity * Price\n",
    "df_purchases.loc[:, 'revenue'] = (df_purchases['quantity'] * df_purchases['unit_price'])\n",
    "revenue_per_client = df_purchases[['customer_id', 'revenue']].groupby('customer_id').sum()\n",
    "df_reference = df_reference.merge(revenue_per_client, on='customer_id', how='left')"
   ]
  },
  {
   "cell_type": "markdown",
   "id": "82f9ed37",
   "metadata": {},
   "source": [
    "### 3.1.2. Recency"
   ]
  },
  {
   "cell_type": "code",
   "execution_count": 249,
   "id": "e0ebc866",
   "metadata": {
    "ExecuteTime": {
     "end_time": "2022-05-26T19:53:42.111024Z",
     "start_time": "2022-05-26T19:53:42.005085Z"
    }
   },
   "outputs": [],
   "source": [
    "# Recency --> Today - Last day purchase\n",
    "last_buy_date_per_client = df_purchases[['customer_id', 'invoice_date']].groupby('customer_id').max().reset_index()\n",
    "df_reference = df_reference.merge(last_buy_date_per_client, on='customer_id', how='left').rename(columns={'invoice_date': 'recency'})\n",
    "df_reference['recency'] = (df_purchases['invoice_date'].max() - df_reference['recency']).dt.days"
   ]
  },
  {
   "cell_type": "markdown",
   "id": "42100647",
   "metadata": {},
   "source": [
    "### 3.1.3. Quantity of orders"
   ]
  },
  {
   "cell_type": "code",
   "execution_count": 250,
   "id": "30fd2a81",
   "metadata": {
    "ExecuteTime": {
     "end_time": "2022-05-26T19:53:42.438837Z",
     "start_time": "2022-05-26T19:53:42.119020Z"
    }
   },
   "outputs": [],
   "source": [
    "# Quantity of orders\n",
    "helper_group = df_purchases[['customer_id', 'invoice_no', 'quantity']].groupby(['customer_id', 'invoice_no']).count().reset_index()\n",
    "quantity_per_client = helper_group[['customer_id', 'quantity']].groupby('customer_id').count().reset_index()\n",
    "df_reference = df_reference.merge(quantity_per_client, on='customer_id', how='left').rename(columns={'quantity': 'quantity_orders'})"
   ]
  },
  {
   "cell_type": "markdown",
   "id": "f60ea453",
   "metadata": {},
   "source": [
    "### 3.1.4. Total quantity of items purchased"
   ]
  },
  {
   "cell_type": "code",
   "execution_count": 251,
   "id": "7f9264cd",
   "metadata": {
    "ExecuteTime": {
     "end_time": "2022-05-26T19:53:42.532782Z",
     "start_time": "2022-05-26T19:53:42.443844Z"
    }
   },
   "outputs": [],
   "source": [
    "# Total quantity of items\n",
    "quantity_per_client = df_purchases[['customer_id', 'quantity']].groupby('customer_id').sum().reset_index()\n",
    "df_reference = df_reference.merge(quantity_per_client, on='customer_id', how='left').rename(columns={'quantity': 'quantity_items_purchased'})"
   ]
  },
  {
   "cell_type": "markdown",
   "id": "562b1faa",
   "metadata": {},
   "source": [
    "### 3.1.5. Avg Ticket"
   ]
  },
  {
   "cell_type": "code",
   "execution_count": 252,
   "id": "c256d694",
   "metadata": {
    "ExecuteTime": {
     "end_time": "2022-05-26T19:53:42.547774Z",
     "start_time": "2022-05-26T19:53:42.535781Z"
    }
   },
   "outputs": [],
   "source": [
    "# Avg ticket\n",
    "df_reference['avg_ticket'] = df_reference['revenue'] / df_reference['quantity_orders']"
   ]
  },
  {
   "cell_type": "markdown",
   "id": "20cfeac3",
   "metadata": {},
   "source": [
    "### 3.1.6. Avg Recency Days"
   ]
  },
  {
   "cell_type": "code",
   "execution_count": 253,
   "id": "3bfcc7aa",
   "metadata": {
    "ExecuteTime": {
     "end_time": "2022-05-26T19:53:43.902995Z",
     "start_time": "2022-05-26T19:53:42.551772Z"
    }
   },
   "outputs": [
    {
     "name": "stderr",
     "output_type": "stream",
     "text": [
      "Exception ignored in: Exception ignored in sys.unraisablehook: <built-in function unraisablehook>\n",
      "Traceback (most recent call last):\n",
      "  File \"C:\\Users\\Miguel\\anaconda3\\envs\\pa005\\lib\\site-packages\\ipykernel\\iostream.py\", line 558, in write\n",
      "    self._schedule_flush()\n",
      "  File \"C:\\Users\\Miguel\\anaconda3\\envs\\pa005\\lib\\site-packages\\ipykernel\\iostream.py\", line 464, in _schedule_flush\n",
      "    self.pub_thread.schedule(_schedule_in_thread)\n",
      "  File \"C:\\Users\\Miguel\\anaconda3\\envs\\pa005\\lib\\site-packages\\ipykernel\\iostream.py\", line 216, in schedule\n",
      "    self._event_pipe.send(b\"\")\n",
      "  File \"C:\\Users\\Miguel\\anaconda3\\envs\\pa005\\lib\\site-packages\\zmq\\sugar\\socket.py\", line 547, in send\n",
      "    return super(Socket, self).send(data, flags=flags, copy=copy, track=track)\n",
      "  File \"zmq\\backend\\cython\\socket.pyx\", line 718, in zmq.backend.cython.socket.Socket.send\n",
      "  File \"zmq\\backend\\cython\\socket.pyx\", line 765, in zmq.backend.cython.socket.Socket.send\n",
      "  File \"zmq\\backend\\cython\\socket.pyx\", line 242, in zmq.backend.cython.socket._send_copy\n",
      "  File \"zmq\\backend\\cython\\checkrc.pxd\", line 13, in zmq.backend.cython.checkrc._check_rc\n",
      "KeyboardInterrupt: \n",
      "\n",
      "KeyboardInterrupt\n",
      "\n"
     ]
    }
   ],
   "source": [
    "# Avg Recency Days\n",
    "df_aux = df_purchases[['customer_id', 'invoice_date']].drop_duplicates().sort_values(['customer_id', 'invoice_date'], ascending=True)\n",
    "\n",
    "df_aux['next_customer_id'] = df_aux['customer_id'].shift(1)\n",
    "\n",
    "df_aux['last_buy_diff'] = df_aux['invoice_date'].diff(1)\n",
    "\n",
    "# when the customer_id != next_customer_id --> last_buy_diff will be np.nan\n",
    "df_aux['last_buy_diff'] = df_aux.apply(lambda x: x['last_buy_diff'] if x['customer_id'] == x['next_customer_id'] else np.nan, axis=1)\n",
    "\n",
    "# desloca para cima e calcula os NA's serão os que estão com recencia igual data atual - data da compra (ultima compra realizada)\n",
    "df_aux['last_buy_diff'] = df_aux['last_buy_diff'].shift(-1)\n",
    "\n",
    "# preenche os NA's com a recencia em relação a data atual\n",
    "df_aux['avg_recency'] = df_aux['last_buy_diff'].fillna(df3['invoice_date'].max() - df_aux['invoice_date']).dt.days\n",
    "\n",
    "avg_recency_by_client = df_aux[['customer_id', 'avg_recency']].groupby('customer_id').mean()\n",
    "\n",
    "df_reference = df_reference.merge(avg_recency_by_client, on='customer_id', how='left')"
   ]
  },
  {
   "cell_type": "markdown",
   "id": "85aa7a5b",
   "metadata": {},
   "source": [
    "### 3.1.7. Time in base"
   ]
  },
  {
   "cell_type": "code",
   "execution_count": null,
   "id": "df67e0dc",
   "metadata": {
    "ExecuteTime": {
     "end_time": "2022-05-26T19:53:43.919986Z",
     "start_time": "2022-05-26T19:53:43.919986Z"
    }
   },
   "outputs": [],
   "source": [
    "#Time in base = Today - Min date of his buy\n",
    "\n",
    "min_date_by_user = (df_purchases[['customer_id', 'invoice_no', 'invoice_date']].drop_duplicates()\n",
    "                                                           .groupby('customer_id')\n",
    "                                                           .agg(min_=('invoice_date', 'min'))).reset_index()\n",
    "\n",
    "min_date_by_user['time_in_base'] = (df_purchases['invoice_date'].max() - min_date_by_user['min_']).dt.days + 1 \n",
    "\n",
    "\n",
    "df_reference = df_reference.merge(min_date_by_user[['customer_id', 'time_in_base']], on='customer_id', how='left')"
   ]
  },
  {
   "cell_type": "markdown",
   "id": "916cfa44",
   "metadata": {},
   "source": [
    "### 3.1.8. Frequency"
   ]
  },
  {
   "cell_type": "code",
   "execution_count": null,
   "id": "f42cf997",
   "metadata": {
    "ExecuteTime": {
     "end_time": "2022-05-26T19:53:43.923985Z",
     "start_time": "2022-05-26T19:53:43.923985Z"
    }
   },
   "outputs": [],
   "source": [
    "# Frequency--> Quantity of orders / Time in base \n",
    "df_reference['frequency'] = df_reference['quantity_orders'] / df_reference['time_in_base']"
   ]
  },
  {
   "cell_type": "markdown",
   "id": "3effd916",
   "metadata": {},
   "source": [
    "### 3.1.9. Frequency between first and last purschase"
   ]
  },
  {
   "cell_type": "code",
   "execution_count": null,
   "id": "6a980e90",
   "metadata": {
    "ExecuteTime": {
     "end_time": "2022-05-26T19:53:43.928982Z",
     "start_time": "2022-05-26T19:53:43.928982Z"
    }
   },
   "outputs": [],
   "source": [
    "# Frequency between purchases --> num of orders/ (Max date of his buy - Min date of his buy ) \n",
    "df_aux = (df_purchases[['customer_id', 'invoice_no', 'invoice_date']].drop_duplicates()\n",
    "                                                           .groupby('customer_id')\n",
    "                                                           .agg(max_=('invoice_date', 'max'),\n",
    "                                                                min_=('invoice_date', 'min'),\n",
    "                                                                buys_=('invoice_no', 'count'))).reset_index()\n",
    "\n",
    "df_aux['days_'] = (df_aux['max_'] - df_aux['min_'] ).dt.days +1\n",
    "df_aux['frequency_btwn_purchases'] = df_aux.apply(lambda x: (x['buys_'] / x['days_'])if x['days_'] != 0 else 0, axis=1)\n",
    "\n",
    "# frequency 0 --> means only 1 buy \n",
    "\n",
    "df_reference = df_reference.merge(df_aux[['customer_id', 'frequency_btwn_purchases']], on='customer_id', how='left')"
   ]
  },
  {
   "cell_type": "markdown",
   "id": "30cc13e5",
   "metadata": {},
   "source": [
    "### 3.1.10. Avg Basket Size"
   ]
  },
  {
   "cell_type": "code",
   "execution_count": null,
   "id": "08124d77",
   "metadata": {
    "ExecuteTime": {
     "end_time": "2022-05-26T19:53:43.932978Z",
     "start_time": "2022-05-26T19:53:43.932978Z"
    }
   },
   "outputs": [],
   "source": [
    "# Avg Basket Size --> How many items / Homw many orders\n",
    "df_reference['avg_basket_size'] = df_reference['quantity_items_purchased'] / df_reference['quantity_orders']"
   ]
  },
  {
   "cell_type": "markdown",
   "id": "35105bd4",
   "metadata": {},
   "source": [
    "### 3.1.11. Avg Unique items in Basket Size"
   ]
  },
  {
   "cell_type": "code",
   "execution_count": null,
   "id": "13ab1619",
   "metadata": {
    "ExecuteTime": {
     "end_time": "2022-05-26T19:53:43.935977Z",
     "start_time": "2022-05-26T19:53:43.935977Z"
    }
   },
   "outputs": [],
   "source": [
    "df_aux = (df_purchases[['customer_id', 'invoice_no', 'stock_code']].groupby('customer_id')\n",
    "                                                                         .agg(n_purchases = ('invoice_no', 'nunique'),\n",
    "                                                                              n_products = ('stock_code', 'nunique')).reset_index())\n",
    "\n",
    "df_aux['avg_unique_basked_size'] = df_aux['n_products'] / df_aux['n_purchases']\n",
    "\n",
    "df_reference = df_reference.merge(df_aux[['customer_id', 'avg_unique_basked_size']], on='customer_id', how='left')"
   ]
  },
  {
   "cell_type": "markdown",
   "id": "7e48df1a",
   "metadata": {},
   "source": [
    "### 3.1.12. Total quantity of products returned"
   ]
  },
  {
   "cell_type": "code",
   "execution_count": null,
   "id": "aba4dab3",
   "metadata": {
    "ExecuteTime": {
     "end_time": "2022-05-26T19:53:43.938976Z",
     "start_time": "2022-05-26T19:53:43.938976Z"
    }
   },
   "outputs": [],
   "source": [
    "# Total quantity of products returned\n",
    "quantity_per_client = df_returns[['customer_id', 'quantity']].groupby('customer_id').sum().reset_index()\n",
    "df_reference = df_reference.merge(quantity_per_client, on='customer_id', how='left').rename(columns={'quantity': 'quantity_items_returned'})\n",
    "\n",
    "\n",
    "# Changing for positive values\n",
    "df_reference['quantity_items_returned'] = df_reference['quantity_items_returned'] * -1\n",
    "\n",
    "# Return NA --> 0 --> empty means no products retured\n",
    "df_reference['quantity_items_returned'] = df_reference['quantity_items_returned'].fillna(0) "
   ]
  },
  {
   "cell_type": "markdown",
   "id": "30da1482",
   "metadata": {},
   "source": [
    "### 3.1.13. Monetary returned"
   ]
  },
  {
   "cell_type": "code",
   "execution_count": null,
   "id": "609fad6c",
   "metadata": {
    "ExecuteTime": {
     "end_time": "2022-05-26T19:53:43.944972Z",
     "start_time": "2022-05-26T19:53:43.944972Z"
    }
   },
   "outputs": [],
   "source": [
    "# Revenue --> Faturamento --> Quantity * Price\n",
    "df_returns.loc[:, 'monetary_returned'] = (df_returns['quantity'] * df_returns['unit_price'])\n",
    "monetary_returned_per_client = df_returns[['customer_id', 'monetary_returned']].groupby('customer_id').sum()\n",
    "df_reference = df_reference.merge(monetary_returned_per_client, on='customer_id', how='left')\n",
    "\n",
    "# Changing for positive values\n",
    "df_reference['monetary_returned'] = df_reference['monetary_returned'] * -1\n",
    "\n",
    "# NA --> 0 --> empty means no monetary retured\n",
    "df_reference['monetary_returned'] = df_reference['monetary_returned'].fillna(0) "
   ]
  },
  {
   "cell_type": "markdown",
   "id": "ee59f77f",
   "metadata": {},
   "source": [
    "### 3.2. Correcting types / na's"
   ]
  },
  {
   "cell_type": "code",
   "execution_count": null,
   "id": "91267131",
   "metadata": {
    "ExecuteTime": {
     "end_time": "2022-05-26T19:53:43.947970Z",
     "start_time": "2022-05-26T19:53:43.947970Z"
    }
   },
   "outputs": [],
   "source": [
    "df_reference.isna().sum()"
   ]
  },
  {
   "cell_type": "code",
   "execution_count": null,
   "id": "457a0f61",
   "metadata": {
    "ExecuteTime": {
     "end_time": "2022-05-26T19:53:43.951969Z",
     "start_time": "2022-05-26T19:53:43.951969Z"
    },
    "scrolled": false
   },
   "outputs": [],
   "source": [
    "# Dropar os outros NA's --> Suas purchases foram eliminadas por algum processo anterior\n",
    "df_reference = df_reference.dropna(axis=0).reset_index(drop=True)\n",
    "\n",
    "# changing types\n",
    "df_reference[['recency', \n",
    "              'quantity_orders', \n",
    "              'time_in_base',\n",
    "              'quantity_items_purchased',\n",
    "              'quantity_items_returned']] = df_reference[['recency', \n",
    "                                                             'quantity_orders', \n",
    "                                                             'time_in_base',\n",
    "                                                             'quantity_items_purchased',\n",
    "                                                             'quantity_items_returned']].astype('int64')\n",
    "\n",
    "df_reference.head()"
   ]
  },
  {
   "cell_type": "markdown",
   "id": "befea113",
   "metadata": {
    "ExecuteTime": {
     "end_time": "2022-01-03T22:35:35.563684Z",
     "start_time": "2022-01-03T22:35:35.557687Z"
    }
   },
   "source": [
    "# 4.0. PASSO 04 - ANALISE EXPLORATORIA DOS DADOS"
   ]
  },
  {
   "cell_type": "markdown",
   "id": "5e494ab2",
   "metadata": {},
   "source": [
    "1. Cluster Coesos e Separados\n",
    "- No modelo de negócio de e-commerce é mais díficil, pois abrange muitas faixas de preço proximas\n",
    "- Muitas pessoas compram pouco e poucas pessoas compram muito\n",
    "\n",
    "2. Buscar variabilidade\n",
    " - Mínimo, Máximo, Range (Dispersão)\n",
    " - Média e Mediana\n",
    " - Desvio Padrão e Variância\n",
    " - Coeficiente de Variação\n",
    " - Distribuição"
   ]
  },
  {
   "cell_type": "code",
   "execution_count": null,
   "id": "efe1cb2e",
   "metadata": {
    "ExecuteTime": {
     "end_time": "2022-05-26T19:53:43.954967Z",
     "start_time": "2022-05-26T19:53:43.954967Z"
    }
   },
   "outputs": [],
   "source": [
    "df4 = df_reference.copy()\n",
    "pickle.dump(df4, open('../datasets/intermediary_data_df4.pkl', 'wb'))"
   ]
  },
  {
   "cell_type": "markdown",
   "id": "a969a823",
   "metadata": {},
   "source": [
    "## 4.1. Analise Univariada"
   ]
  },
  {
   "cell_type": "code",
   "execution_count": null,
   "id": "a7162262",
   "metadata": {
    "ExecuteTime": {
     "end_time": "2022-05-26T19:53:43.957964Z",
     "start_time": "2022-05-26T19:53:43.957964Z"
    }
   },
   "outputs": [],
   "source": [
    "# profile = ProfileReport(df4)\n",
    "# profile.to_file('../EDA/univariate_analysis_v2.html')"
   ]
  },
  {
   "cell_type": "markdown",
   "id": "3945598b",
   "metadata": {},
   "source": [
    "### 4.1.1 V1"
   ]
  },
  {
   "cell_type": "markdown",
   "id": "ceb4a241",
   "metadata": {},
   "source": [
    "#### Revenue"
   ]
  },
  {
   "cell_type": "code",
   "execution_count": null,
   "id": "561e94da",
   "metadata": {
    "ExecuteTime": {
     "end_time": "2022-05-26T19:53:43.963962Z",
     "start_time": "2022-05-26T19:53:43.963962Z"
    },
    "scrolled": true
   },
   "outputs": [],
   "source": [
    "df4[df4['revenue'] == 279138.02]\n",
    "# ok"
   ]
  },
  {
   "cell_type": "markdown",
   "id": "9af1438e",
   "metadata": {},
   "source": [
    "#### Avg Ticket"
   ]
  },
  {
   "cell_type": "code",
   "execution_count": null,
   "id": "3b900995",
   "metadata": {
    "ExecuteTime": {
     "end_time": "2022-05-26T19:53:43.966959Z",
     "start_time": "2022-05-26T19:53:43.966959Z"
    }
   },
   "outputs": [],
   "source": [
    "df4[df4['avg_ticket'] > 15000]\n",
    "# 12346 and 16446 --> Basicamente compraram e retornaram tudo que compraram --> removidos"
   ]
  },
  {
   "cell_type": "markdown",
   "id": "ac895c91",
   "metadata": {},
   "source": [
    "#### Avg Basket Size"
   ]
  },
  {
   "cell_type": "code",
   "execution_count": null,
   "id": "890a658d",
   "metadata": {
    "ExecuteTime": {
     "end_time": "2022-05-26T19:53:43.968958Z",
     "start_time": "2022-05-26T19:53:43.968958Z"
    }
   },
   "outputs": [],
   "source": [
    "df4[df4['avg_basket_size'] > 15000] # mesmo problema que avg_ticket\n",
    "# 12346 and 16446 --> Basicamente compraram e retornaram tudo que compraram --> removidos"
   ]
  },
  {
   "cell_type": "markdown",
   "id": "a1a8cdf1",
   "metadata": {},
   "source": [
    "#### Avg Unique items in Basket Size"
   ]
  },
  {
   "cell_type": "code",
   "execution_count": null,
   "id": "63a25d07",
   "metadata": {
    "ExecuteTime": {
     "end_time": "2022-05-26T19:53:43.972958Z",
     "start_time": "2022-05-26T19:53:43.972958Z"
    }
   },
   "outputs": [],
   "source": [
    "df4[df4['avg_unique_basked_size'] < 1].head()\n",
    "# menor que 1 significa que ele comprou menos produtos diferentes do que a qtd de ordens realizadas"
   ]
  },
  {
   "cell_type": "markdown",
   "id": "891715f5",
   "metadata": {},
   "source": [
    "#### Total quantity of products returned"
   ]
  },
  {
   "cell_type": "code",
   "execution_count": null,
   "id": "825cbe35",
   "metadata": {
    "ExecuteTime": {
     "end_time": "2022-05-26T19:53:43.976973Z",
     "start_time": "2022-05-26T19:53:43.976973Z"
    }
   },
   "outputs": [],
   "source": [
    "df4[df4['quantity_items_returned'] == df4['quantity_items_purchased']].sort_values('quantity_items_returned', ascending=False)\n",
    "# maybe something to look and remove in future"
   ]
  },
  {
   "cell_type": "markdown",
   "id": "fe6a4af9",
   "metadata": {},
   "source": [
    "#### Monetary returned"
   ]
  },
  {
   "cell_type": "code",
   "execution_count": null,
   "id": "af665ab8",
   "metadata": {
    "ExecuteTime": {
     "end_time": "2022-05-26T19:53:43.980953Z",
     "start_time": "2022-05-26T19:53:43.980953Z"
    }
   },
   "outputs": [],
   "source": [
    "df4[df4['monetary_returned'] > 14000] # mesmo problema que avg_ticket\n",
    "# 12346 and 16446 --> Basicamente compraram e retornaram tudo que compraram --> removidos"
   ]
  },
  {
   "cell_type": "markdown",
   "id": "74c211cf",
   "metadata": {},
   "source": [
    "## 4.2. Analise Bivariada"
   ]
  },
  {
   "cell_type": "code",
   "execution_count": null,
   "id": "fc76e01f",
   "metadata": {
    "ExecuteTime": {
     "end_time": "2022-05-26T19:53:43.983950Z",
     "start_time": "2022-05-26T19:53:43.983950Z"
    }
   },
   "outputs": [],
   "source": [
    "plt.figure(figsize=(18,9))\n",
    "correlation = df4.drop(columns=['customer_id']).corr(method='pearson')\n",
    "sns.heatmap(correlation, annot=True)\n",
    "plt.show()"
   ]
  },
  {
   "cell_type": "code",
   "execution_count": null,
   "id": "db03afb2",
   "metadata": {
    "ExecuteTime": {
     "end_time": "2022-05-26T19:53:43.986948Z",
     "start_time": "2022-05-26T19:53:43.986948Z"
    }
   },
   "outputs": [],
   "source": [
    "df4 = pd.read_pickle('../datasets/intermediary_data_df4.pkl')\n",
    "df_pairplot = df4.drop(columns=['customer_id', 'avg_ticket', 'avg_basket_size', 'avg_unique_basked_size', 'monetary_returned'])\n",
    "\n",
    "plt.figure(figsize=(15,15))\n",
    "sns.pairplot(df_pairplot, corner=True, diag_kind=None)\n",
    "plt.show()"
   ]
  },
  {
   "cell_type": "markdown",
   "id": "022108d2",
   "metadata": {},
   "source": [
    "- Frequency tem baixa variação "
   ]
  },
  {
   "cell_type": "markdown",
   "id": "73c14e17",
   "metadata": {
    "ExecuteTime": {
     "end_time": "2022-01-03T22:35:35.563684Z",
     "start_time": "2022-01-03T22:35:35.557687Z"
    }
   },
   "source": [
    "# 5.0. PASSO 05 - PREPARAÇAO DOS DADOS"
   ]
  },
  {
   "cell_type": "code",
   "execution_count": 452,
   "id": "477661ba",
   "metadata": {
    "ExecuteTime": {
     "end_time": "2022-05-26T20:44:51.438969Z",
     "start_time": "2022-05-26T20:44:51.420983Z"
    }
   },
   "outputs": [],
   "source": [
    "df4 = pd.read_pickle('../datasets/intermediary_data_df4.pkl')"
   ]
  },
  {
   "cell_type": "code",
   "execution_count": 455,
   "id": "e31bfc62",
   "metadata": {
    "ExecuteTime": {
     "end_time": "2022-05-26T20:45:04.574946Z",
     "start_time": "2022-05-26T20:45:04.527950Z"
    }
   },
   "outputs": [
    {
     "data": {
      "text/html": [
       "<div>\n",
       "<style scoped>\n",
       "    .dataframe tbody tr th:only-of-type {\n",
       "        vertical-align: middle;\n",
       "    }\n",
       "\n",
       "    .dataframe tbody tr th {\n",
       "        vertical-align: top;\n",
       "    }\n",
       "\n",
       "    .dataframe thead th {\n",
       "        text-align: right;\n",
       "    }\n",
       "</style>\n",
       "<table border=\"1\" class=\"dataframe\">\n",
       "  <thead>\n",
       "    <tr style=\"text-align: right;\">\n",
       "      <th></th>\n",
       "      <th>customer_id</th>\n",
       "      <th>revenue</th>\n",
       "      <th>recency</th>\n",
       "      <th>quantity_orders</th>\n",
       "      <th>quantity_items_purchased</th>\n",
       "      <th>avg_ticket</th>\n",
       "      <th>avg_recency</th>\n",
       "      <th>time_in_base</th>\n",
       "      <th>frequency</th>\n",
       "      <th>frequency_btwn_purchases</th>\n",
       "      <th>avg_basket_size</th>\n",
       "      <th>avg_unique_basked_size</th>\n",
       "      <th>quantity_items_returned</th>\n",
       "      <th>monetary_returned</th>\n",
       "    </tr>\n",
       "  </thead>\n",
       "  <tbody>\n",
       "    <tr>\n",
       "      <th>4327</th>\n",
       "      <td>19001</td>\n",
       "      <td>4951.37</td>\n",
       "      <td>373</td>\n",
       "      <td>1</td>\n",
       "      <td>1207</td>\n",
       "      <td>4951.37</td>\n",
       "      <td>373.0</td>\n",
       "      <td>374</td>\n",
       "      <td>0.002674</td>\n",
       "      <td>1.0</td>\n",
       "      <td>1207.0</td>\n",
       "      <td>522.0</td>\n",
       "      <td>0</td>\n",
       "      <td>0.0</td>\n",
       "    </tr>\n",
       "    <tr>\n",
       "      <th>4328</th>\n",
       "      <td>19010</td>\n",
       "      <td>2.97</td>\n",
       "      <td>373</td>\n",
       "      <td>1</td>\n",
       "      <td>2</td>\n",
       "      <td>2.97</td>\n",
       "      <td>373.0</td>\n",
       "      <td>374</td>\n",
       "      <td>0.002674</td>\n",
       "      <td>1.0</td>\n",
       "      <td>2.0</td>\n",
       "      <td>2.0</td>\n",
       "      <td>0</td>\n",
       "      <td>0.0</td>\n",
       "    </tr>\n",
       "    <tr>\n",
       "      <th>4329</th>\n",
       "      <td>19011</td>\n",
       "      <td>99.75</td>\n",
       "      <td>373</td>\n",
       "      <td>1</td>\n",
       "      <td>5</td>\n",
       "      <td>99.75</td>\n",
       "      <td>373.0</td>\n",
       "      <td>374</td>\n",
       "      <td>0.002674</td>\n",
       "      <td>1.0</td>\n",
       "      <td>5.0</td>\n",
       "      <td>1.0</td>\n",
       "      <td>0</td>\n",
       "      <td>0.0</td>\n",
       "    </tr>\n",
       "    <tr>\n",
       "      <th>4330</th>\n",
       "      <td>19012</td>\n",
       "      <td>6.70</td>\n",
       "      <td>373</td>\n",
       "      <td>1</td>\n",
       "      <td>2</td>\n",
       "      <td>6.70</td>\n",
       "      <td>373.0</td>\n",
       "      <td>374</td>\n",
       "      <td>0.002674</td>\n",
       "      <td>1.0</td>\n",
       "      <td>2.0</td>\n",
       "      <td>2.0</td>\n",
       "      <td>0</td>\n",
       "      <td>0.0</td>\n",
       "    </tr>\n",
       "    <tr>\n",
       "      <th>4331</th>\n",
       "      <td>19014</td>\n",
       "      <td>6308.16</td>\n",
       "      <td>373</td>\n",
       "      <td>1</td>\n",
       "      <td>1477</td>\n",
       "      <td>6308.16</td>\n",
       "      <td>373.0</td>\n",
       "      <td>374</td>\n",
       "      <td>0.002674</td>\n",
       "      <td>1.0</td>\n",
       "      <td>1477.0</td>\n",
       "      <td>589.0</td>\n",
       "      <td>0</td>\n",
       "      <td>0.0</td>\n",
       "    </tr>\n",
       "    <tr>\n",
       "      <th>...</th>\n",
       "      <td>...</td>\n",
       "      <td>...</td>\n",
       "      <td>...</td>\n",
       "      <td>...</td>\n",
       "      <td>...</td>\n",
       "      <td>...</td>\n",
       "      <td>...</td>\n",
       "      <td>...</td>\n",
       "      <td>...</td>\n",
       "      <td>...</td>\n",
       "      <td>...</td>\n",
       "      <td>...</td>\n",
       "      <td>...</td>\n",
       "      <td>...</td>\n",
       "    </tr>\n",
       "    <tr>\n",
       "      <th>5688</th>\n",
       "      <td>22705</td>\n",
       "      <td>3.35</td>\n",
       "      <td>1</td>\n",
       "      <td>1</td>\n",
       "      <td>2</td>\n",
       "      <td>3.35</td>\n",
       "      <td>1.0</td>\n",
       "      <td>2</td>\n",
       "      <td>0.500000</td>\n",
       "      <td>1.0</td>\n",
       "      <td>2.0</td>\n",
       "      <td>2.0</td>\n",
       "      <td>0</td>\n",
       "      <td>0.0</td>\n",
       "    </tr>\n",
       "    <tr>\n",
       "      <th>5689</th>\n",
       "      <td>22706</td>\n",
       "      <td>5699.00</td>\n",
       "      <td>1</td>\n",
       "      <td>1</td>\n",
       "      <td>1747</td>\n",
       "      <td>5699.00</td>\n",
       "      <td>1.0</td>\n",
       "      <td>2</td>\n",
       "      <td>0.500000</td>\n",
       "      <td>1.0</td>\n",
       "      <td>1747.0</td>\n",
       "      <td>634.0</td>\n",
       "      <td>0</td>\n",
       "      <td>0.0</td>\n",
       "    </tr>\n",
       "    <tr>\n",
       "      <th>5690</th>\n",
       "      <td>22707</td>\n",
       "      <td>6756.06</td>\n",
       "      <td>0</td>\n",
       "      <td>1</td>\n",
       "      <td>2010</td>\n",
       "      <td>6756.06</td>\n",
       "      <td>0.0</td>\n",
       "      <td>1</td>\n",
       "      <td>1.000000</td>\n",
       "      <td>1.0</td>\n",
       "      <td>2010.0</td>\n",
       "      <td>730.0</td>\n",
       "      <td>0</td>\n",
       "      <td>0.0</td>\n",
       "    </tr>\n",
       "    <tr>\n",
       "      <th>5691</th>\n",
       "      <td>22708</td>\n",
       "      <td>3217.20</td>\n",
       "      <td>0</td>\n",
       "      <td>1</td>\n",
       "      <td>654</td>\n",
       "      <td>3217.20</td>\n",
       "      <td>0.0</td>\n",
       "      <td>1</td>\n",
       "      <td>1.000000</td>\n",
       "      <td>1.0</td>\n",
       "      <td>654.0</td>\n",
       "      <td>56.0</td>\n",
       "      <td>0</td>\n",
       "      <td>0.0</td>\n",
       "    </tr>\n",
       "    <tr>\n",
       "      <th>5692</th>\n",
       "      <td>22709</td>\n",
       "      <td>3950.72</td>\n",
       "      <td>0</td>\n",
       "      <td>1</td>\n",
       "      <td>731</td>\n",
       "      <td>3950.72</td>\n",
       "      <td>0.0</td>\n",
       "      <td>1</td>\n",
       "      <td>1.000000</td>\n",
       "      <td>1.0</td>\n",
       "      <td>731.0</td>\n",
       "      <td>217.0</td>\n",
       "      <td>0</td>\n",
       "      <td>0.0</td>\n",
       "    </tr>\n",
       "  </tbody>\n",
       "</table>\n",
       "<p>1366 rows × 14 columns</p>\n",
       "</div>"
      ],
      "text/plain": [
       "      customer_id  revenue  recency  quantity_orders  quantity_items_purchased  avg_ticket  avg_recency  time_in_base  frequency  frequency_btwn_purchases  avg_basket_size  avg_unique_basked_size  quantity_items_returned  monetary_returned\n",
       "4327        19001  4951.37      373                1                      1207     4951.37        373.0           374   0.002674                       1.0           1207.0                   522.0                        0                0.0\n",
       "4328        19010     2.97      373                1                         2        2.97        373.0           374   0.002674                       1.0              2.0                     2.0                        0                0.0\n",
       "4329        19011    99.75      373                1                         5       99.75        373.0           374   0.002674                       1.0              5.0                     1.0                        0                0.0\n",
       "4330        19012     6.70      373                1                         2        6.70        373.0           374   0.002674                       1.0              2.0                     2.0                        0                0.0\n",
       "4331        19014  6308.16      373                1                      1477     6308.16        373.0           374   0.002674                       1.0           1477.0                   589.0                        0                0.0\n",
       "...           ...      ...      ...              ...                       ...         ...          ...           ...        ...                       ...              ...                     ...                      ...                ...\n",
       "5688        22705     3.35        1                1                         2        3.35          1.0             2   0.500000                       1.0              2.0                     2.0                        0                0.0\n",
       "5689        22706  5699.00        1                1                      1747     5699.00          1.0             2   0.500000                       1.0           1747.0                   634.0                        0                0.0\n",
       "5690        22707  6756.06        0                1                      2010     6756.06          0.0             1   1.000000                       1.0           2010.0                   730.0                        0                0.0\n",
       "5691        22708  3217.20        0                1                       654     3217.20          0.0             1   1.000000                       1.0            654.0                    56.0                        0                0.0\n",
       "5692        22709  3950.72        0                1                       731     3950.72          0.0             1   1.000000                       1.0            731.0                   217.0                        0                0.0\n",
       "\n",
       "[1366 rows x 14 columns]"
      ]
     },
     "execution_count": 455,
     "metadata": {},
     "output_type": "execute_result"
    }
   ],
   "source": [
    "df4[df4['customer_id']>19000]"
   ]
  },
  {
   "cell_type": "code",
   "execution_count": 453,
   "id": "a52d9d13",
   "metadata": {
    "ExecuteTime": {
     "end_time": "2022-05-26T20:44:53.151980Z",
     "start_time": "2022-05-26T20:44:53.125976Z"
    }
   },
   "outputs": [
    {
     "data": {
      "text/html": [
       "<div>\n",
       "<style scoped>\n",
       "    .dataframe tbody tr th:only-of-type {\n",
       "        vertical-align: middle;\n",
       "    }\n",
       "\n",
       "    .dataframe tbody tr th {\n",
       "        vertical-align: top;\n",
       "    }\n",
       "\n",
       "    .dataframe thead th {\n",
       "        text-align: right;\n",
       "    }\n",
       "</style>\n",
       "<table border=\"1\" class=\"dataframe\">\n",
       "  <thead>\n",
       "    <tr style=\"text-align: right;\">\n",
       "      <th></th>\n",
       "      <th>customer_id</th>\n",
       "      <th>revenue</th>\n",
       "      <th>recency</th>\n",
       "      <th>quantity_orders</th>\n",
       "      <th>quantity_items_purchased</th>\n",
       "      <th>avg_ticket</th>\n",
       "      <th>avg_recency</th>\n",
       "      <th>time_in_base</th>\n",
       "      <th>frequency</th>\n",
       "      <th>frequency_btwn_purchases</th>\n",
       "      <th>avg_basket_size</th>\n",
       "      <th>avg_unique_basked_size</th>\n",
       "      <th>quantity_items_returned</th>\n",
       "      <th>monetary_returned</th>\n",
       "    </tr>\n",
       "  </thead>\n",
       "  <tbody>\n",
       "    <tr>\n",
       "      <th>0</th>\n",
       "      <td>17850</td>\n",
       "      <td>5391.21</td>\n",
       "      <td>372</td>\n",
       "      <td>34</td>\n",
       "      <td>1733</td>\n",
       "      <td>158.565000</td>\n",
       "      <td>186.500000</td>\n",
       "      <td>374</td>\n",
       "      <td>0.090909</td>\n",
       "      <td>17.000000</td>\n",
       "      <td>50.970588</td>\n",
       "      <td>0.617647</td>\n",
       "      <td>40</td>\n",
       "      <td>102.58</td>\n",
       "    </tr>\n",
       "    <tr>\n",
       "      <th>1</th>\n",
       "      <td>13047</td>\n",
       "      <td>3232.59</td>\n",
       "      <td>56</td>\n",
       "      <td>9</td>\n",
       "      <td>1390</td>\n",
       "      <td>359.176667</td>\n",
       "      <td>53.285714</td>\n",
       "      <td>374</td>\n",
       "      <td>0.024064</td>\n",
       "      <td>0.028302</td>\n",
       "      <td>154.444444</td>\n",
       "      <td>11.666667</td>\n",
       "      <td>35</td>\n",
       "      <td>143.49</td>\n",
       "    </tr>\n",
       "    <tr>\n",
       "      <th>2</th>\n",
       "      <td>12583</td>\n",
       "      <td>6705.38</td>\n",
       "      <td>2</td>\n",
       "      <td>15</td>\n",
       "      <td>5028</td>\n",
       "      <td>447.025333</td>\n",
       "      <td>24.866667</td>\n",
       "      <td>374</td>\n",
       "      <td>0.040107</td>\n",
       "      <td>0.040323</td>\n",
       "      <td>335.200000</td>\n",
       "      <td>7.600000</td>\n",
       "      <td>50</td>\n",
       "      <td>76.04</td>\n",
       "    </tr>\n",
       "    <tr>\n",
       "      <th>3</th>\n",
       "      <td>13748</td>\n",
       "      <td>948.25</td>\n",
       "      <td>95</td>\n",
       "      <td>5</td>\n",
       "      <td>439</td>\n",
       "      <td>189.650000</td>\n",
       "      <td>93.250000</td>\n",
       "      <td>374</td>\n",
       "      <td>0.013369</td>\n",
       "      <td>0.017921</td>\n",
       "      <td>87.800000</td>\n",
       "      <td>4.800000</td>\n",
       "      <td>0</td>\n",
       "      <td>0.00</td>\n",
       "    </tr>\n",
       "    <tr>\n",
       "      <th>4</th>\n",
       "      <td>15100</td>\n",
       "      <td>876.00</td>\n",
       "      <td>333</td>\n",
       "      <td>3</td>\n",
       "      <td>80</td>\n",
       "      <td>292.000000</td>\n",
       "      <td>124.333333</td>\n",
       "      <td>374</td>\n",
       "      <td>0.008021</td>\n",
       "      <td>0.073171</td>\n",
       "      <td>26.666667</td>\n",
       "      <td>0.333333</td>\n",
       "      <td>22</td>\n",
       "      <td>240.90</td>\n",
       "    </tr>\n",
       "    <tr>\n",
       "      <th>...</th>\n",
       "      <td>...</td>\n",
       "      <td>...</td>\n",
       "      <td>...</td>\n",
       "      <td>...</td>\n",
       "      <td>...</td>\n",
       "      <td>...</td>\n",
       "      <td>...</td>\n",
       "      <td>...</td>\n",
       "      <td>...</td>\n",
       "      <td>...</td>\n",
       "      <td>...</td>\n",
       "      <td>...</td>\n",
       "      <td>...</td>\n",
       "      <td>...</td>\n",
       "    </tr>\n",
       "    <tr>\n",
       "      <th>5688</th>\n",
       "      <td>22705</td>\n",
       "      <td>3.35</td>\n",
       "      <td>1</td>\n",
       "      <td>1</td>\n",
       "      <td>2</td>\n",
       "      <td>3.350000</td>\n",
       "      <td>1.000000</td>\n",
       "      <td>2</td>\n",
       "      <td>0.500000</td>\n",
       "      <td>1.000000</td>\n",
       "      <td>2.000000</td>\n",
       "      <td>2.000000</td>\n",
       "      <td>0</td>\n",
       "      <td>0.00</td>\n",
       "    </tr>\n",
       "    <tr>\n",
       "      <th>5689</th>\n",
       "      <td>22706</td>\n",
       "      <td>5699.00</td>\n",
       "      <td>1</td>\n",
       "      <td>1</td>\n",
       "      <td>1747</td>\n",
       "      <td>5699.000000</td>\n",
       "      <td>1.000000</td>\n",
       "      <td>2</td>\n",
       "      <td>0.500000</td>\n",
       "      <td>1.000000</td>\n",
       "      <td>1747.000000</td>\n",
       "      <td>634.000000</td>\n",
       "      <td>0</td>\n",
       "      <td>0.00</td>\n",
       "    </tr>\n",
       "    <tr>\n",
       "      <th>5690</th>\n",
       "      <td>22707</td>\n",
       "      <td>6756.06</td>\n",
       "      <td>0</td>\n",
       "      <td>1</td>\n",
       "      <td>2010</td>\n",
       "      <td>6756.060000</td>\n",
       "      <td>0.000000</td>\n",
       "      <td>1</td>\n",
       "      <td>1.000000</td>\n",
       "      <td>1.000000</td>\n",
       "      <td>2010.000000</td>\n",
       "      <td>730.000000</td>\n",
       "      <td>0</td>\n",
       "      <td>0.00</td>\n",
       "    </tr>\n",
       "    <tr>\n",
       "      <th>5691</th>\n",
       "      <td>22708</td>\n",
       "      <td>3217.20</td>\n",
       "      <td>0</td>\n",
       "      <td>1</td>\n",
       "      <td>654</td>\n",
       "      <td>3217.200000</td>\n",
       "      <td>0.000000</td>\n",
       "      <td>1</td>\n",
       "      <td>1.000000</td>\n",
       "      <td>1.000000</td>\n",
       "      <td>654.000000</td>\n",
       "      <td>56.000000</td>\n",
       "      <td>0</td>\n",
       "      <td>0.00</td>\n",
       "    </tr>\n",
       "    <tr>\n",
       "      <th>5692</th>\n",
       "      <td>22709</td>\n",
       "      <td>3950.72</td>\n",
       "      <td>0</td>\n",
       "      <td>1</td>\n",
       "      <td>731</td>\n",
       "      <td>3950.720000</td>\n",
       "      <td>0.000000</td>\n",
       "      <td>1</td>\n",
       "      <td>1.000000</td>\n",
       "      <td>1.000000</td>\n",
       "      <td>731.000000</td>\n",
       "      <td>217.000000</td>\n",
       "      <td>0</td>\n",
       "      <td>0.00</td>\n",
       "    </tr>\n",
       "  </tbody>\n",
       "</table>\n",
       "<p>5693 rows × 14 columns</p>\n",
       "</div>"
      ],
      "text/plain": [
       "      customer_id  revenue  recency  quantity_orders  quantity_items_purchased   avg_ticket  avg_recency  time_in_base  frequency  frequency_btwn_purchases  avg_basket_size  avg_unique_basked_size  quantity_items_returned  monetary_returned\n",
       "0           17850  5391.21      372               34                      1733   158.565000   186.500000           374   0.090909                 17.000000        50.970588                0.617647                       40             102.58\n",
       "1           13047  3232.59       56                9                      1390   359.176667    53.285714           374   0.024064                  0.028302       154.444444               11.666667                       35             143.49\n",
       "2           12583  6705.38        2               15                      5028   447.025333    24.866667           374   0.040107                  0.040323       335.200000                7.600000                       50              76.04\n",
       "3           13748   948.25       95                5                       439   189.650000    93.250000           374   0.013369                  0.017921        87.800000                4.800000                        0               0.00\n",
       "4           15100   876.00      333                3                        80   292.000000   124.333333           374   0.008021                  0.073171        26.666667                0.333333                       22             240.90\n",
       "...           ...      ...      ...              ...                       ...          ...          ...           ...        ...                       ...              ...                     ...                      ...                ...\n",
       "5688        22705     3.35        1                1                         2     3.350000     1.000000             2   0.500000                  1.000000         2.000000                2.000000                        0               0.00\n",
       "5689        22706  5699.00        1                1                      1747  5699.000000     1.000000             2   0.500000                  1.000000      1747.000000              634.000000                        0               0.00\n",
       "5690        22707  6756.06        0                1                      2010  6756.060000     0.000000             1   1.000000                  1.000000      2010.000000              730.000000                        0               0.00\n",
       "5691        22708  3217.20        0                1                       654  3217.200000     0.000000             1   1.000000                  1.000000       654.000000               56.000000                        0               0.00\n",
       "5692        22709  3950.72        0                1                       731  3950.720000     0.000000             1   1.000000                  1.000000       731.000000              217.000000                        0               0.00\n",
       "\n",
       "[5693 rows x 14 columns]"
      ]
     },
     "execution_count": 453,
     "metadata": {},
     "output_type": "execute_result"
    }
   ],
   "source": [
    "df4"
   ]
  },
  {
   "cell_type": "code",
   "execution_count": 458,
   "id": "8ed3b750",
   "metadata": {
    "ExecuteTime": {
     "end_time": "2022-05-26T20:46:52.243627Z",
     "start_time": "2022-05-26T20:46:52.221639Z"
    }
   },
   "outputs": [],
   "source": [
    "df4 = pd.read_pickle('../datasets/intermediary_data_df4.pkl')\n",
    "df4 = df4[df4['customer_id']<19000].copy()\n",
    "df5 = df4.copy()\n",
    "df5_notscaled = df4.copy()"
   ]
  },
  {
   "cell_type": "markdown",
   "id": "69302896",
   "metadata": {},
   "source": [
    "1. Distribuição normal e não possui outlier: Standard Scaler\n",
    "2. Distribuição normal e possui outlier: Robust Scaler\n",
    "3. Distribuição não normal: MinMax Scaler"
   ]
  },
  {
   "cell_type": "code",
   "execution_count": 459,
   "id": "a0eda5e3",
   "metadata": {
    "ExecuteTime": {
     "end_time": "2022-05-26T20:46:54.528888Z",
     "start_time": "2022-05-26T20:46:54.443748Z"
    }
   },
   "outputs": [],
   "source": [
    "df5 = df4.copy()\n",
    "\n",
    "mm = pp.MinMaxScaler()\n",
    "ss = pp.StandardScaler()\n",
    "rs = pp.RobustScaler()\n",
    "\n",
    "df5['revenue'] = mm.fit_transform(df5[['revenue']])\n",
    "df5['recency'] = mm.fit_transform(df5[['recency']])\n",
    "df5['quantity_orders'] = mm.fit_transform(df5[['quantity_orders']])\n",
    "df5['quantity_items_purchased'] = mm.fit_transform(df5[['quantity_items_purchased']])\n",
    "df5['avg_ticket'] = mm.fit_transform(df5[['avg_ticket']])\n",
    "df5['avg_recency'] = mm.fit_transform(df5[['avg_recency']])\n",
    "df5['time_in_base'] = mm.fit_transform(df5[['time_in_base']]) # could be ss\n",
    "df5['frequency'] = mm.fit_transform(df5[['frequency']])\n",
    "df5['frequency_btwn_purchases'] = mm.fit_transform(df5[['frequency_btwn_purchases']])\n",
    "df5['avg_basket_size'] = mm.fit_transform(df5[['avg_basket_size']])\n",
    "df5['avg_unique_basked_size'] = mm.fit_transform(df5[['avg_unique_basked_size']])\n",
    "df5['quantity_items_returned'] = mm.fit_transform(df5[['quantity_items_returned']])\n",
    "df5['monetary_returned'] = mm.fit_transform(df5[['monetary_returned']])"
   ]
  },
  {
   "cell_type": "code",
   "execution_count": 256,
   "id": "cc94aa25",
   "metadata": {
    "ExecuteTime": {
     "end_time": "2022-05-26T19:53:52.206814Z",
     "start_time": "2022-05-26T19:53:52.199820Z"
    }
   },
   "outputs": [],
   "source": [
    "variable = 'monetary_returned'"
   ]
  },
  {
   "cell_type": "code",
   "execution_count": 257,
   "id": "a083ac91",
   "metadata": {
    "ExecuteTime": {
     "end_time": "2022-05-26T19:55:27.871776Z",
     "start_time": "2022-05-26T19:53:52.213810Z"
    },
    "cell_style": "split"
   },
   "outputs": [
    {
     "name": "stdout",
     "output_type": "stream",
     "text": [
      "Min: 0.0 // Max: 22998.4\n"
     ]
    },
    {
     "name": "stderr",
     "output_type": "stream",
     "text": [
      "\n",
      "KeyboardInterrupt\n",
      "\n"
     ]
    },
    {
     "name": "stdout",
     "output_type": "stream",
     "text": [
      "Error in callback <function flush_figures at 0x0000024AD343E160> (for post_execute):\n"
     ]
    },
    {
     "name": "stderr",
     "output_type": "stream",
     "text": [
      "\n",
      "KeyboardInterrupt\n",
      "\n"
     ]
    }
   ],
   "source": [
    "# Dados Originais\n",
    "print(f\"Min: {df5_notscaled[variable].min()} // Max: {df5_notscaled[variable].max()}\")\n",
    "sns.displot(df5_notscaled[variable]);"
   ]
  },
  {
   "cell_type": "code",
   "execution_count": null,
   "id": "c46cea0d",
   "metadata": {
    "ExecuteTime": {
     "end_time": "2022-05-26T19:55:27.887766Z",
     "start_time": "2022-05-26T19:55:27.887766Z"
    },
    "cell_style": "split"
   },
   "outputs": [],
   "source": [
    "# Dados Normalizados / Rescalados\n",
    "print(f\"Min: {df5[variable].min()} // Max: {df5[variable].max()}\")\n",
    "sns.displot(df5[variable]);"
   ]
  },
  {
   "cell_type": "code",
   "execution_count": null,
   "id": "66139b06",
   "metadata": {
    "ExecuteTime": {
     "end_time": "2022-05-26T19:55:27.890764Z",
     "start_time": "2022-05-26T19:55:27.890764Z"
    }
   },
   "outputs": [],
   "source": [
    "sns.boxplot(x=variable ,data=df5_notscaled);"
   ]
  },
  {
   "cell_type": "markdown",
   "id": "f9bab3c8",
   "metadata": {
    "ExecuteTime": {
     "end_time": "2022-01-03T22:35:35.563684Z",
     "start_time": "2022-01-03T22:35:35.557687Z"
    }
   },
   "source": [
    "# 6.0. PASSO 06 - FEATURE SELECTION"
   ]
  },
  {
   "cell_type": "markdown",
   "id": "fcda1c4f",
   "metadata": {},
   "source": [
    "1. Não vou selecionar features que usam a média, porque no final já vou calcular a média do profile todo.\n",
    "- Removidas: avg_ticket, avg_basket_size, avg_unique_basked_size (falta escolher o avg_recency ou não)\n",
    "2. Contar o número de produtos devolvidos e o valor monetário devolvido é redundante, por isso:\n",
    "- Removida: monetary_returned\n",
    "3. Já têm a frequency, e a frequency frequency_btwn_purchases é repetitiva em relação a clientes que só fizeram uma compra.\n",
    "- Removida: frequency_btwn_purchases\n",
    "4. Pensando no negócio talvez considerar o tempo na base não seja tão interessante como critério relevante de entrar ou não no insiders(visto que já há outros critérios temporais).\n",
    "- Removida: time_in_base\n",
    "5. Contar o número de ordens e de produtos comprados pode ser redundante, por isso:\n",
    "- Removida: quantity_orders"
   ]
  },
  {
   "cell_type": "code",
   "execution_count": 460,
   "id": "2dcc7c29",
   "metadata": {
    "ExecuteTime": {
     "end_time": "2022-05-26T20:46:59.109770Z",
     "start_time": "2022-05-26T20:46:59.091765Z"
    }
   },
   "outputs": [],
   "source": [
    "cols_select = ['customer_id', 'revenue', 'recency',\n",
    "       'quantity_items_purchased',\n",
    "       'frequency', 'quantity_items_returned']"
   ]
  },
  {
   "cell_type": "code",
   "execution_count": 461,
   "id": "6950a15a",
   "metadata": {
    "ExecuteTime": {
     "end_time": "2022-05-26T20:47:01.959160Z",
     "start_time": "2022-05-26T20:47:01.948162Z"
    }
   },
   "outputs": [],
   "source": [
    "df6 = df5[cols_select].copy()"
   ]
  },
  {
   "cell_type": "markdown",
   "id": "49d84f4b",
   "metadata": {},
   "source": [
    "# 7.0. PASSO 07 - ESTUDO DO ESPAÇO "
   ]
  },
  {
   "cell_type": "code",
   "execution_count": 462,
   "id": "ec8c0359",
   "metadata": {
    "ExecuteTime": {
     "end_time": "2022-05-26T20:47:10.938438Z",
     "start_time": "2022-05-26T20:47:10.916452Z"
    }
   },
   "outputs": [],
   "source": [
    "df7 = df6.drop(columns=['customer_id']).copy()\n",
    "X = df7.copy()"
   ]
  },
  {
   "cell_type": "markdown",
   "id": "d01b0b54",
   "metadata": {},
   "source": [
    "## 7.1. PCA"
   ]
  },
  {
   "cell_type": "code",
   "execution_count": 463,
   "id": "2b99486b",
   "metadata": {
    "ExecuteTime": {
     "end_time": "2022-05-26T20:47:13.076832Z",
     "start_time": "2022-05-26T20:47:12.763741Z"
    }
   },
   "outputs": [
    {
     "data": {
      "image/png": "[encoded data removed]",
      "text/plain": [
       "<Figure size 1152x576 with 1 Axes>"
      ]
     },
     "metadata": {},
     "output_type": "display_data"
    }
   ],
   "source": [
    "pca = dd.PCA(n_components=X.shape[1])\n",
    "\n",
    "principal_components = pca.fit_transform(X)\n",
    "\n",
    "# plot explained variable\n",
    "features = range(pca.n_components_)\n",
    "\n",
    "plt.bar(features, pca.explained_variance_ratio_, color='black')\n",
    "\n",
    "df_pca = pd.DataFrame(principal_components)"
   ]
  },
  {
   "cell_type": "code",
   "execution_count": 464,
   "id": "1a3f1d64",
   "metadata": {
    "ExecuteTime": {
     "end_time": "2022-05-26T20:47:14.278776Z",
     "start_time": "2022-05-26T20:47:13.987598Z"
    },
    "scrolled": true
   },
   "outputs": [
    {
     "data": {
      "image/png": "[encoded data removed]",
      "text/plain": [
       "<Figure size 1152x576 with 1 Axes>"
      ]
     },
     "metadata": {},
     "output_type": "display_data"
    }
   ],
   "source": [
    "sns.scatterplot(x=0, y=1, data= df_pca);"
   ]
  },
  {
   "cell_type": "markdown",
   "id": "40539c85",
   "metadata": {},
   "source": [
    "## 7.2. UMAP"
   ]
  },
  {
   "cell_type": "code",
   "execution_count": 465,
   "id": "8c6b20a4",
   "metadata": {
    "ExecuteTime": {
     "end_time": "2022-05-26T20:47:28.618768Z",
     "start_time": "2022-05-26T20:47:15.884051Z"
    }
   },
   "outputs": [
    {
     "data": {
      "text/plain": [
       "<AxesSubplot:xlabel='embedding_x', ylabel='embedding_y'>"
      ]
     },
     "execution_count": 465,
     "metadata": {},
     "output_type": "execute_result"
    },
    {
     "data": {
      "image/png": "[encoded data removed]",
      "text/plain": [
       "<Figure size 1152x576 with 1 Axes>"
      ]
     },
     "metadata": {},
     "output_type": "display_data"
    }
   ],
   "source": [
    "reducer = ump.UMAP(random_state=99) # n_neighbors --> como se representasse um zoom (olhando globalmente)\n",
    "embedding = reducer.fit_transform(X)\n",
    "\n",
    "# embedding \n",
    "df_pca['embedding_x'] = embedding[:, 0]\n",
    "df_pca['embedding_y'] = embedding[:, 1]\n",
    "\n",
    "# plot\n",
    "sns.scatterplot(data=df_pca, x='embedding_x', y='embedding_y')\n",
    "\n",
    "# pontos proximos da mesma cor --> na alta dimensionalidade a probabilidade de estarem proximos é alta"
   ]
  },
  {
   "cell_type": "markdown",
   "id": "5bbf337f",
   "metadata": {},
   "source": [
    "## 7.3. t-SNE"
   ]
  },
  {
   "cell_type": "code",
   "execution_count": 466,
   "id": "5d3aecb6",
   "metadata": {
    "ExecuteTime": {
     "end_time": "2022-05-26T20:48:12.670165Z",
     "start_time": "2022-05-26T20:47:29.170458Z"
    }
   },
   "outputs": [
    {
     "name": "stderr",
     "output_type": "stream",
     "text": [
      "C:\\Users\\Miguel\\anaconda3\\envs\\pa005\\lib\\site-packages\\sklearn\\manifold\\_t_sne.py:780: FutureWarning: The default initialization in TSNE will change from 'random' to 'pca' in 1.2.\n",
      "  warnings.warn(\n",
      "C:\\Users\\Miguel\\anaconda3\\envs\\pa005\\lib\\site-packages\\sklearn\\manifold\\_t_sne.py:790: FutureWarning: The default learning rate in TSNE will change from 200.0 to 'auto' in 1.2.\n",
      "  warnings.warn(\n"
     ]
    },
    {
     "data": {
      "text/plain": [
       "<AxesSubplot:xlabel='embedding_x', ylabel='embedding_y'>"
      ]
     },
     "execution_count": 466,
     "metadata": {},
     "output_type": "execute_result"
    },
    {
     "data": {
      "image/png": "[encoded data removed]",
      "text/plain": [
       "<Figure size 1152x576 with 1 Axes>"
      ]
     },
     "metadata": {},
     "output_type": "display_data"
    }
   ],
   "source": [
    "reducer = TSNE(n_components=2 , random_state=99, n_jobs=-1) # n_neighbors --> como se representasse um zoom (olhando globalmente)\n",
    "embedding = reducer.fit_transform(X)\n",
    "\n",
    "# embedding \n",
    "df_pca['embedding_x'] = embedding[:, 0]\n",
    "df_pca['embedding_y'] = embedding[:, 1]\n",
    "\n",
    "# plot\n",
    "sns.scatterplot(data=df_pca, x='embedding_x', y='embedding_y')\n",
    "\n",
    "# pontos proximos da mesma cor --> na alta dimensionalidade a probabilidade de estarem proximos é alta"
   ]
  },
  {
   "cell_type": "markdown",
   "id": "e53229f6",
   "metadata": {},
   "source": [
    "## 7.4. Tree-Based Embedding"
   ]
  },
  {
   "cell_type": "code",
   "execution_count": 467,
   "id": "9f9f5219",
   "metadata": {
    "ExecuteTime": {
     "end_time": "2022-05-26T20:48:13.303537Z",
     "start_time": "2022-05-26T20:48:13.290545Z"
    }
   },
   "outputs": [],
   "source": [
    "from sklearn import ensemble as en"
   ]
  },
  {
   "cell_type": "code",
   "execution_count": 468,
   "id": "1a415a54",
   "metadata": {
    "ExecuteTime": {
     "end_time": "2022-05-26T20:48:18.303707Z",
     "start_time": "2022-05-26T20:48:14.067568Z"
    }
   },
   "outputs": [],
   "source": [
    "# training dataset\n",
    "X_t = X.drop(columns=['revenue'])\n",
    "y = X['revenue']\n",
    "\n",
    "# model definition\n",
    "rf_model = en.RandomForestRegressor(n_estimators=200, random_state=99)\n",
    "\n",
    "# model training\n",
    "rf_model.fit(X_t, y)\n",
    "\n",
    "# dataframe Leaf\n",
    "df_leaf = pd.DataFrame(rf_model.apply(X_t))"
   ]
  },
  {
   "cell_type": "markdown",
   "id": "7b694d4b",
   "metadata": {
    "ExecuteTime": {
     "end_time": "2022-04-18T22:09:48.012389Z",
     "start_time": "2022-04-18T22:09:47.996379Z"
    }
   },
   "source": [
    "- Perco explicabildade, porém a solução funciona porque não preciso de explicabilidade como os vizinhos são construidos e sim explicar as variáveis em relação ao clusters\n",
    "- Ex: Esse cluster em média compra x, tem recencia y, etc"
   ]
  },
  {
   "cell_type": "markdown",
   "id": "8ad3ec0f",
   "metadata": {},
   "source": [
    "### 7.4.1 UMAP"
   ]
  },
  {
   "cell_type": "code",
   "execution_count": 469,
   "id": "4c0e8b18",
   "metadata": {
    "ExecuteTime": {
     "end_time": "2022-05-26T20:48:32.471116Z",
     "start_time": "2022-05-26T20:48:18.841733Z"
    }
   },
   "outputs": [
    {
     "data": {
      "text/plain": [
       "<AxesSubplot:xlabel='embedding_x', ylabel='embedding_y'>"
      ]
     },
     "execution_count": 469,
     "metadata": {},
     "output_type": "execute_result"
    },
    {
     "data": {
      "image/png": "[encoded data removed]",
      "text/plain": [
       "<Figure size 1152x576 with 1 Axes>"
      ]
     },
     "metadata": {},
     "output_type": "display_data"
    }
   ],
   "source": [
    "reducer = ump.UMAP(random_state=99) # n_neighbors --> como se representasse um zoom (olhando globalmente)\n",
    "embedding = reducer.fit_transform(df_leaf)\n",
    "\n",
    "df_tree_umap = pd.DataFrame()\n",
    "# embedding \n",
    "df_tree_umap['embedding_x'] = embedding[:, 0]\n",
    "df_tree_umap['embedding_y'] = embedding[:, 1]\n",
    "\n",
    "# plot\n",
    "sns.scatterplot(data=df_tree_umap, x='embedding_x', y='embedding_y')\n",
    "\n",
    "# pontos proximos da mesma cor --> na alta dimensionalidade a probabilidade de estarem proximos é alta"
   ]
  },
  {
   "cell_type": "markdown",
   "id": "8a7b7281",
   "metadata": {},
   "source": [
    "### 7.4.2. t-SNE"
   ]
  },
  {
   "cell_type": "code",
   "execution_count": 470,
   "id": "3b37997c",
   "metadata": {
    "ExecuteTime": {
     "end_time": "2022-05-26T20:49:23.477861Z",
     "start_time": "2022-05-26T20:48:33.056757Z"
    }
   },
   "outputs": [
    {
     "name": "stderr",
     "output_type": "stream",
     "text": [
      "C:\\Users\\Miguel\\anaconda3\\envs\\pa005\\lib\\site-packages\\sklearn\\manifold\\_t_sne.py:780: FutureWarning: The default initialization in TSNE will change from 'random' to 'pca' in 1.2.\n",
      "  warnings.warn(\n",
      "C:\\Users\\Miguel\\anaconda3\\envs\\pa005\\lib\\site-packages\\sklearn\\manifold\\_t_sne.py:790: FutureWarning: The default learning rate in TSNE will change from 200.0 to 'auto' in 1.2.\n",
      "  warnings.warn(\n"
     ]
    },
    {
     "data": {
      "text/plain": [
       "<AxesSubplot:xlabel='embedding_x', ylabel='embedding_y'>"
      ]
     },
     "execution_count": 470,
     "metadata": {},
     "output_type": "execute_result"
    },
    {
     "data": {
      "image/png": "[encoded data removed]",
      "text/plain": [
       "<Figure size 1152x576 with 1 Axes>"
      ]
     },
     "metadata": {},
     "output_type": "display_data"
    }
   ],
   "source": [
    "reducer = TSNE(n_components=2 , random_state=99, n_jobs=-1) # n_neighbors --> como se representasse um zoom (olhando globalmente)\n",
    "embedding = reducer.fit_transform(df_leaf)\n",
    "\n",
    "df_tree_tsne = pd.DataFrame()\n",
    "# embedding \n",
    "df_tree_tsne['embedding_x'] = embedding[:, 0]\n",
    "df_tree_tsne['embedding_y'] = embedding[:, 1]\n",
    "\n",
    "# plot\n",
    "sns.scatterplot(data=df_tree_tsne, x='embedding_x', y='embedding_y')"
   ]
  },
  {
   "cell_type": "markdown",
   "id": "023d1798",
   "metadata": {
    "ExecuteTime": {
     "end_time": "2022-01-03T22:35:35.563684Z",
     "start_time": "2022-01-03T22:35:35.557687Z"
    }
   },
   "source": [
    "# 7.0. PASSO 07 - FINDING THE NUMBER OF CLUSTERS\n",
    "\n",
    "HYPERPARAMETER FINE TUNING"
   ]
  },
  {
   "cell_type": "markdown",
   "id": "b603dea5",
   "metadata": {},
   "source": [
    "Using tree embedding"
   ]
  },
  {
   "cell_type": "code",
   "execution_count": 471,
   "id": "9c9ecf37",
   "metadata": {
    "ExecuteTime": {
     "end_time": "2022-05-26T20:49:24.215587Z",
     "start_time": "2022-05-26T20:49:24.203573Z"
    }
   },
   "outputs": [],
   "source": [
    "df7 = df_tree_umap.copy()\n",
    "X = df7.copy()"
   ]
  },
  {
   "cell_type": "markdown",
   "id": "ddc5e5d0",
   "metadata": {},
   "source": [
    "Using features space"
   ]
  },
  {
   "cell_type": "code",
   "execution_count": 270,
   "id": "2d1dddb9",
   "metadata": {
    "ExecuteTime": {
     "end_time": "2022-05-26T19:59:11.972956Z",
     "start_time": "2022-05-26T19:59:11.960962Z"
    }
   },
   "outputs": [],
   "source": [
    "# X = df7.drop(columns=['customer_id'])"
   ]
  },
  {
   "cell_type": "code",
   "execution_count": 472,
   "id": "e8803764",
   "metadata": {
    "ExecuteTime": {
     "end_time": "2022-05-26T20:49:24.891490Z",
     "start_time": "2022-05-26T20:49:24.878500Z"
    }
   },
   "outputs": [],
   "source": [
    "clusters = range(2,25)"
   ]
  },
  {
   "cell_type": "markdown",
   "id": "7bc25717",
   "metadata": {
    "ExecuteTime": {
     "end_time": "2022-01-03T22:35:35.563684Z",
     "start_time": "2022-01-03T22:35:35.557687Z"
    }
   },
   "source": [
    "## 7.1. K-Means"
   ]
  },
  {
   "cell_type": "code",
   "execution_count": 473,
   "id": "37a2c860",
   "metadata": {
    "ExecuteTime": {
     "end_time": "2022-05-26T20:49:43.057985Z",
     "start_time": "2022-05-26T20:49:25.581932Z"
    }
   },
   "outputs": [],
   "source": [
    "kmeans_sil_list = []\n",
    "for k in clusters:\n",
    "    # model definition\n",
    "    kmeans_model = c.KMeans(init='random', n_clusters=k, n_init=10, max_iter=300, random_state=99)\n",
    "    \n",
    "    # model training\n",
    "    kmeans_model.fit(X)\n",
    "    \n",
    "    # model predict\n",
    "    labels = kmeans_model.predict(X)\n",
    "    \n",
    "    # model performance\n",
    "    kmeans_sil_list.append(m.silhouette_score(X, labels, metric='euclidean'))"
   ]
  },
  {
   "cell_type": "code",
   "execution_count": 474,
   "id": "22e40d84",
   "metadata": {
    "ExecuteTime": {
     "end_time": "2022-05-26T20:49:44.109347Z",
     "start_time": "2022-05-26T20:49:43.835370Z"
    }
   },
   "outputs": [
    {
     "data": {
      "image/png": "[encoded data removed]",
      "text/plain": [
       "<Figure size 1080x360 with 1 Axes>"
      ]
     },
     "metadata": {},
     "output_type": "display_data"
    }
   ],
   "source": [
    "plt.figure(figsize=(15,5))\n",
    "plt.plot(clusters, kmeans_sil_list, linestyle='--', marker='o')\n",
    "plt.title('K-Means - Silhouette x K')\n",
    "plt.ylabel('Silhouette Score')\n",
    "plt.xlabel('K');"
   ]
  },
  {
   "cell_type": "markdown",
   "id": "3e84f4d2",
   "metadata": {
    "ExecuteTime": {
     "end_time": "2022-01-03T22:35:35.563684Z",
     "start_time": "2022-01-03T22:35:35.557687Z"
    }
   },
   "source": [
    "## 7.2. GMM"
   ]
  },
  {
   "cell_type": "code",
   "execution_count": 475,
   "id": "14e933f7",
   "metadata": {
    "ExecuteTime": {
     "end_time": "2022-05-26T20:49:44.803085Z",
     "start_time": "2022-05-26T20:49:44.792103Z"
    }
   },
   "outputs": [],
   "source": [
    "from sklearn import mixture as mx"
   ]
  },
  {
   "cell_type": "code",
   "execution_count": 476,
   "id": "6d5b216f",
   "metadata": {
    "ExecuteTime": {
     "end_time": "2022-05-26T20:50:04.656839Z",
     "start_time": "2022-05-26T20:49:45.495685Z"
    }
   },
   "outputs": [],
   "source": [
    "gmm_sil_list = []\n",
    "for k in clusters:\n",
    "    # model definition\n",
    "    gmm_model = mx.GaussianMixture(n_components=k, random_state=99) # n_init=300 --> add to get always the same resulta  + random_state\n",
    "    \n",
    "    # model training\n",
    "    gmm_model.fit(X)\n",
    "    \n",
    "    # model predict\n",
    "    labels = gmm_model.predict(X)\n",
    "    \n",
    "    # model performance\n",
    "    gmm_sil_list.append(m.silhouette_score(X, labels, metric='euclidean'))"
   ]
  },
  {
   "cell_type": "code",
   "execution_count": 477,
   "id": "efb8eecc",
   "metadata": {
    "ExecuteTime": {
     "end_time": "2022-05-26T20:50:05.854892Z",
     "start_time": "2022-05-26T20:50:05.568057Z"
    }
   },
   "outputs": [
    {
     "data": {
      "image/png": "[encoded data removed]",
      "text/plain": [
       "<Figure size 1080x360 with 1 Axes>"
      ]
     },
     "metadata": {},
     "output_type": "display_data"
    }
   ],
   "source": [
    "plt.figure(figsize=(15,5))\n",
    "plt.plot(clusters, gmm_sil_list, linestyle='--', marker='o')\n",
    "plt.title('GMM - Silhouette x K')\n",
    "plt.ylabel('Silhouette Score')\n",
    "plt.xlabel('K');"
   ]
  },
  {
   "cell_type": "markdown",
   "id": "cabbf4fb",
   "metadata": {
    "ExecuteTime": {
     "end_time": "2022-01-03T22:35:35.563684Z",
     "start_time": "2022-01-03T22:35:35.557687Z"
    }
   },
   "source": [
    "## 7.3. Hierarchical Clustering"
   ]
  },
  {
   "cell_type": "markdown",
   "id": "d8e40974",
   "metadata": {
    "ExecuteTime": {
     "end_time": "2022-04-21T15:51:37.535488Z",
     "start_time": "2022-04-21T15:51:37.513498Z"
    }
   },
   "source": [
    "AIC - Ajuste dos dados\n",
    "\n",
    "BIC - Ajuste dos parametros"
   ]
  },
  {
   "cell_type": "code",
   "execution_count": null,
   "id": "5ce551ad",
   "metadata": {
    "ExecuteTime": {
     "end_time": "2022-05-26T19:55:27.975718Z",
     "start_time": "2022-05-26T19:55:27.974716Z"
    }
   },
   "outputs": [],
   "source": [
    "from scipy.cluster import hierarchy as hc"
   ]
  },
  {
   "cell_type": "code",
   "execution_count": null,
   "id": "9380620b",
   "metadata": {
    "ExecuteTime": {
     "end_time": "2022-05-26T19:55:27.978717Z",
     "start_time": "2022-05-26T19:55:27.978717Z"
    }
   },
   "outputs": [],
   "source": [
    "# model definition\n",
    "hc_model = hc.linkage(X, 'ward')"
   ]
  },
  {
   "cell_type": "code",
   "execution_count": null,
   "id": "f03a59b9",
   "metadata": {
    "ExecuteTime": {
     "end_time": "2022-05-26T19:55:27.981712Z",
     "start_time": "2022-05-26T19:55:27.981712Z"
    }
   },
   "outputs": [],
   "source": [
    "# hc.dendrogram(\n",
    "#     hc_model,\n",
    "#     leaf_rotation=90,\n",
    "#     leaf_font_size=8\n",
    "# )\n",
    "\n",
    "# plt.plot()"
   ]
  },
  {
   "cell_type": "code",
   "execution_count": null,
   "id": "4431750f",
   "metadata": {
    "ExecuteTime": {
     "end_time": "2022-05-26T19:55:27.986709Z",
     "start_time": "2022-05-26T19:55:27.986709Z"
    }
   },
   "outputs": [],
   "source": [
    "hc.dendrogram(\n",
    "    hc_model,\n",
    "    leaf_rotation=90,\n",
    "    leaf_font_size=8,\n",
    "    truncate_mode='lastp',\n",
    "    p=12,\n",
    "    show_contracted=True\n",
    ")\n",
    "\n",
    "plt.plot()"
   ]
  },
  {
   "cell_type": "markdown",
   "id": "3cf74019",
   "metadata": {
    "ExecuteTime": {
     "end_time": "2022-01-03T22:35:35.563684Z",
     "start_time": "2022-01-03T22:35:35.557687Z"
    }
   },
   "source": [
    "### 7.3. HClustering Silhouette Score"
   ]
  },
  {
   "cell_type": "code",
   "execution_count": null,
   "id": "0062a62e",
   "metadata": {
    "ExecuteTime": {
     "end_time": "2022-05-26T19:55:27.989707Z",
     "start_time": "2022-05-26T19:55:27.989707Z"
    }
   },
   "outputs": [],
   "source": [
    "hc_sil_list = []\n",
    "for k in clusters:\n",
    "    # model definition and training\n",
    "    hc_model = hc.linkage(X, 'ward')\n",
    "\n",
    "    # model predict\n",
    "    labels = hc.fcluster(hc_model, k, criterion='maxclust')\n",
    "\n",
    "    # metrics\n",
    "    hc_sil_list.append(m.silhouette_score(X, labels, metric='euclidean'))"
   ]
  },
  {
   "cell_type": "code",
   "execution_count": null,
   "id": "f2cd1891",
   "metadata": {
    "ExecuteTime": {
     "end_time": "2022-05-26T19:55:27.992707Z",
     "start_time": "2022-05-26T19:55:27.992707Z"
    }
   },
   "outputs": [],
   "source": [
    "plt.figure(figsize=(15,5))\n",
    "plt.plot(clusters, hc_sil_list, linestyle='--', marker='o')\n",
    "plt.title('HClustering - Silhouette x K')\n",
    "plt.ylabel('Silhouette Score')\n",
    "plt.xlabel('K');"
   ]
  },
  {
   "cell_type": "markdown",
   "id": "047a8f60",
   "metadata": {
    "ExecuteTime": {
     "end_time": "2022-01-03T22:35:35.563684Z",
     "start_time": "2022-01-03T22:35:35.557687Z"
    }
   },
   "source": [
    "## 7.4. DBSCAN"
   ]
  },
  {
   "cell_type": "code",
   "execution_count": null,
   "id": "2732a4bd",
   "metadata": {
    "ExecuteTime": {
     "end_time": "2022-05-26T19:55:27.995704Z",
     "start_time": "2022-05-26T19:55:27.995704Z"
    }
   },
   "outputs": [],
   "source": [
    "dbscan_sil_list = []\n",
    "eps = 0.06\n",
    "min_samples = 10\n",
    "\n",
    "# model definition\n",
    "dbscan_model = c.DBSCAN(eps=eps, min_samples=min_samples)\n",
    "\n",
    "# model training and predict\n",
    "labels = dbscan_model.fit_predict(X)\n",
    "\n",
    "dbscan_sil_list.append(m.silhouette_score(X, labels, metric='euclidean'))"
   ]
  },
  {
   "cell_type": "code",
   "execution_count": null,
   "id": "92c14e3e",
   "metadata": {
    "ExecuteTime": {
     "end_time": "2022-05-26T19:55:27.998704Z",
     "start_time": "2022-05-26T19:55:27.998704Z"
    }
   },
   "outputs": [],
   "source": [
    "dbscan_sil_list"
   ]
  },
  {
   "cell_type": "code",
   "execution_count": null,
   "id": "99a3718c",
   "metadata": {
    "ExecuteTime": {
     "end_time": "2022-05-26T19:55:28.004698Z",
     "start_time": "2022-05-26T19:55:28.004698Z"
    }
   },
   "outputs": [],
   "source": [
    "np.unique(labels)"
   ]
  },
  {
   "cell_type": "code",
   "execution_count": null,
   "id": "4ac1b707",
   "metadata": {
    "ExecuteTime": {
     "end_time": "2022-05-26T19:55:28.007696Z",
     "start_time": "2022-05-26T19:55:28.007696Z"
    }
   },
   "outputs": [],
   "source": [
    "from sklearn.neighbors import NearestNeighbors"
   ]
  },
  {
   "cell_type": "code",
   "execution_count": null,
   "id": "34b91b0a",
   "metadata": {
    "ExecuteTime": {
     "end_time": "2022-05-26T19:55:28.012694Z",
     "start_time": "2022-05-26T19:55:28.012694Z"
    }
   },
   "outputs": [],
   "source": [
    "neighbors = NearestNeighbors(n_neighbors=min_samples).fit(X)\n",
    "distances, indices = neighbors.kneighbors(X)"
   ]
  },
  {
   "cell_type": "code",
   "execution_count": null,
   "id": "1277fe24",
   "metadata": {
    "ExecuteTime": {
     "end_time": "2022-05-26T19:55:28.015693Z",
     "start_time": "2022-05-26T19:55:28.015693Z"
    }
   },
   "outputs": [],
   "source": [
    "distances = np.sort(distances, axis=0)\n",
    "distances = distances[:,1]"
   ]
  },
  {
   "cell_type": "code",
   "execution_count": null,
   "id": "ea5e50be",
   "metadata": {
    "ExecuteTime": {
     "end_time": "2022-05-26T19:55:28.024687Z",
     "start_time": "2022-05-26T19:55:28.024687Z"
    }
   },
   "outputs": [],
   "source": [
    "plt.plot(distances[5650:]);"
   ]
  },
  {
   "cell_type": "code",
   "execution_count": null,
   "id": "49540d8a",
   "metadata": {
    "ExecuteTime": {
     "end_time": "2022-05-26T19:55:28.028685Z",
     "start_time": "2022-05-26T19:55:28.028685Z"
    }
   },
   "outputs": [],
   "source": [
    "dbscan_sil_list"
   ]
  },
  {
   "cell_type": "code",
   "execution_count": null,
   "id": "83ddc9a9",
   "metadata": {
    "ExecuteTime": {
     "end_time": "2022-05-26T19:55:28.032683Z",
     "start_time": "2022-05-26T19:55:28.032683Z"
    }
   },
   "outputs": [],
   "source": [
    "dbscan_sil_list_final = dbscan_sil_list.copy()\n",
    "dbscan_sil_list_final.extend([0, 0, 0, 0, 0])"
   ]
  },
  {
   "cell_type": "markdown",
   "id": "d5350600",
   "metadata": {
    "ExecuteTime": {
     "end_time": "2022-01-03T22:35:35.563684Z",
     "start_time": "2022-01-03T22:35:35.557687Z"
    }
   },
   "source": [
    "## 7.5. Results"
   ]
  },
  {
   "cell_type": "code",
   "execution_count": null,
   "id": "74323ba9",
   "metadata": {
    "ExecuteTime": {
     "end_time": "2022-05-26T19:55:28.040679Z",
     "start_time": "2022-05-26T19:55:28.040679Z"
    }
   },
   "outputs": [],
   "source": [
    "df_results = pd.DataFrame({\n",
    "    'Kmeans':kmeans_sil_list,\n",
    "    'GMM':gmm_sil_list,\n",
    "    'HC':hc_sil_list,\n",
    "    'DBSCAN':dbscan_sil_list_final\n",
    "}, index=clusters).T"
   ]
  },
  {
   "cell_type": "code",
   "execution_count": null,
   "id": "aff857b2",
   "metadata": {
    "ExecuteTime": {
     "end_time": "2022-05-26T19:55:28.045675Z",
     "start_time": "2022-05-26T19:55:28.045675Z"
    }
   },
   "outputs": [],
   "source": []
  },
  {
   "cell_type": "markdown",
   "id": "03482589",
   "metadata": {},
   "source": [
    "## 7.6. Silhouette Analysis"
   ]
  },
  {
   "cell_type": "code",
   "execution_count": null,
   "id": "65b9e0b5",
   "metadata": {
    "ExecuteTime": {
     "end_time": "2022-05-26T19:55:28.049673Z",
     "start_time": "2022-05-26T19:55:28.049673Z"
    },
    "code_folding": []
   },
   "outputs": [],
   "source": [
    "fig, ax = plt.subplots(3,2)\n",
    "fig.set_size_inches(25,20)\n",
    "\n",
    "\n",
    "for k in clusters:\n",
    "    \n",
    "    q, mod = divmod(k, 2)\n",
    "    \n",
    "    # model definition and training\n",
    "    hc_model = hc.linkage(X, 'ward')\n",
    "\n",
    "    # model predict\n",
    "    labels = hc.fcluster(hc_model, k, criterion='maxclust')\n",
    "\n",
    "    # performance\n",
    "    ss = m.silhouette_score(X, labels, metric='euclidean')\n",
    "    print(f'For k= {k} // SS= {ss:.2f}')\n",
    "\n",
    "    sample_silhouette_values = m.silhouette_samples(X, labels)\n",
    "    \n",
    "    y_lower=10\n",
    "    for i in np.unique(labels):\n",
    "\n",
    "        # select a cluster\n",
    "        ith_samples_silhouette_values = sample_silhouette_values[labels==i]\n",
    "\n",
    "        # size of the cluster\n",
    "        size_cluster_i = ith_samples_silhouette_values.shape[0]\n",
    "        \n",
    "        # upper limite\n",
    "        y_upper = y_lower + size_cluster_i\n",
    "        \n",
    "        cmap = cm.get_cmap('Spectral')\n",
    "        color = cmap(i/k)\n",
    "\n",
    "        # sort values\n",
    "        ith_samples_silhouette_values.sort()\n",
    "\n",
    "    \n",
    "        # plot\n",
    "        ax[q-1, mod].fill_betweenx(np.arange(y_lower, y_upper), 0, ith_samples_silhouette_values)\n",
    "        \n",
    "        y_lower = y_upper + 10\n",
    "    \n",
    "    \n",
    "    ax[q-1, mod].set_title(f'k={k}')\n",
    "    # x and y limits\n",
    "    #ax[q-1, mod].set_xlim([min(sample_silhouette_values) - 0.02, 1])\n",
    "    ax[q-1, mod].set_xlim([-0.6, 1])\n",
    "    ax[q-1, mod].set_ylim([0, len(X) + (k+1)*10 ])\n"
   ]
  },
  {
   "cell_type": "markdown",
   "id": "ff4eee29",
   "metadata": {
    "ExecuteTime": {
     "end_time": "2022-01-03T22:35:35.563684Z",
     "start_time": "2022-01-03T22:35:35.557687Z"
    }
   },
   "source": [
    "# 8.0. PASSO 08 - MODEL TRAINING"
   ]
  },
  {
   "cell_type": "markdown",
   "id": "3f9bf89e",
   "metadata": {
    "ExecuteTime": {
     "end_time": "2022-01-03T22:35:35.563684Z",
     "start_time": "2022-01-03T22:35:35.557687Z"
    }
   },
   "source": [
    "## 8.1. K-Means"
   ]
  },
  {
   "cell_type": "code",
   "execution_count": 478,
   "id": "a63d12e0",
   "metadata": {
    "ExecuteTime": {
     "end_time": "2022-05-26T20:50:20.721091Z",
     "start_time": "2022-05-26T20:50:20.710122Z"
    }
   },
   "outputs": [],
   "source": [
    "k = 8"
   ]
  },
  {
   "cell_type": "code",
   "execution_count": 479,
   "id": "53a8029f",
   "metadata": {
    "ExecuteTime": {
     "end_time": "2022-05-26T20:50:21.954216Z",
     "start_time": "2022-05-26T20:50:21.804302Z"
    }
   },
   "outputs": [],
   "source": [
    "# model definition\n",
    "kmeans = c.KMeans(init='random', n_clusters=k, n_init=10, max_iter=300, random_state=99)\n",
    "\n",
    "# model training\n",
    "kmeans.fit(X)\n",
    "\n",
    "# clustering\n",
    "labels = kmeans.labels_"
   ]
  },
  {
   "cell_type": "code",
   "execution_count": 325,
   "id": "b0919f71",
   "metadata": {
    "ExecuteTime": {
     "end_time": "2022-05-26T20:11:15.423105Z",
     "start_time": "2022-05-26T20:11:15.415110Z"
    }
   },
   "outputs": [],
   "source": [
    "# pickle.dump(kmeans, open('../models/test_kmeans_model.pkl', 'wb'))\n",
    "\n",
    "#kmeans = pickle.load(open('../models/test_kmeans_model.pkl', 'rb'))\n",
    "\n",
    "# clustering\n",
    "# labels = kmeans.labels_"
   ]
  },
  {
   "cell_type": "markdown",
   "id": "1061cb7e",
   "metadata": {},
   "source": [
    "#### How to always keep the same cluster name"
   ]
  },
  {
   "cell_type": "code",
   "execution_count": 315,
   "id": "e1e17b19",
   "metadata": {
    "ExecuteTime": {
     "end_time": "2022-05-26T20:10:50.161139Z",
     "start_time": "2022-05-26T20:10:50.143151Z"
    }
   },
   "outputs": [],
   "source": [
    "# # model definition\n",
    "# gmm_model = mx.GaussianMixture(n_components=k)\n",
    "    \n",
    "# # model training\n",
    "# gmm_model.fit(X)\n",
    "\n",
    "# # model predict\n",
    "# labels = gmm_model.predict(X)"
   ]
  },
  {
   "cell_type": "code",
   "execution_count": null,
   "id": "9bc03a44",
   "metadata": {
    "ExecuteTime": {
     "end_time": "2022-05-26T19:55:28.081655Z",
     "start_time": "2022-05-26T19:55:28.081655Z"
    }
   },
   "outputs": [],
   "source": [
    "# idx = np.argsort(gmm_model.means_.sum(axis=1))\n",
    "\n",
    "# # new cluster label\n",
    "# new_cluster_label = np.zeros_like(idx)\n",
    "# new_cluster_label\n",
    "\n",
    "# # cluster name\n",
    "# cluster_name = [10, 11, 12, 13, 14, 15, 16, 17]\n",
    "\n",
    "# # assigning new cluster names\n",
    "# new_cluster_label[idx] = cluster_name\n",
    "\n",
    "# labels = new_cluster_label[labels]"
   ]
  },
  {
   "cell_type": "markdown",
   "id": "87446f27",
   "metadata": {
    "ExecuteTime": {
     "end_time": "2022-01-03T22:35:35.563684Z",
     "start_time": "2022-01-03T22:35:35.557687Z"
    }
   },
   "source": [
    "### 8.1.1. Cluster Validation"
   ]
  },
  {
   "cell_type": "code",
   "execution_count": 483,
   "id": "1891e829",
   "metadata": {
    "ExecuteTime": {
     "end_time": "2022-05-26T20:50:45.866316Z",
     "start_time": "2022-05-26T20:50:45.268625Z"
    }
   },
   "outputs": [
    {
     "name": "stdout",
     "output_type": "stream",
     "text": [
      "WSS: 54032.45\n",
      "SS: 0.569\n"
     ]
    }
   ],
   "source": [
    "# WSS \n",
    "print(f'WSS: {kmeans.inertia_:.2f}')\n",
    "\n",
    "# SS\n",
    "print(f'SS: {m.silhouette_score(X, labels, metric=\"euclidean\"):.3f}')"
   ]
  },
  {
   "cell_type": "markdown",
   "id": "6e7317d3",
   "metadata": {
    "ExecuteTime": {
     "end_time": "2022-01-03T22:35:35.563684Z",
     "start_time": "2022-01-03T22:35:35.557687Z"
    }
   },
   "source": [
    "# 9.0. PASSO 09 - CLUSTER ANALYSIS"
   ]
  },
  {
   "cell_type": "code",
   "execution_count": 485,
   "id": "7f7e23f5",
   "metadata": {
    "ExecuteTime": {
     "end_time": "2022-05-26T20:50:51.427467Z",
     "start_time": "2022-05-26T20:50:51.399460Z"
    }
   },
   "outputs": [
    {
     "data": {
      "text/html": [
       "<div>\n",
       "<style scoped>\n",
       "    .dataframe tbody tr th:only-of-type {\n",
       "        vertical-align: middle;\n",
       "    }\n",
       "\n",
       "    .dataframe tbody tr th {\n",
       "        vertical-align: top;\n",
       "    }\n",
       "\n",
       "    .dataframe thead th {\n",
       "        text-align: right;\n",
       "    }\n",
       "</style>\n",
       "<table border=\"1\" class=\"dataframe\">\n",
       "  <thead>\n",
       "    <tr style=\"text-align: right;\">\n",
       "      <th></th>\n",
       "      <th>customer_id</th>\n",
       "      <th>revenue</th>\n",
       "      <th>recency</th>\n",
       "      <th>quantity_items_purchased</th>\n",
       "      <th>frequency</th>\n",
       "      <th>quantity_items_returned</th>\n",
       "      <th>cluster</th>\n",
       "    </tr>\n",
       "  </thead>\n",
       "  <tbody>\n",
       "    <tr>\n",
       "      <th>0</th>\n",
       "      <td>17850</td>\n",
       "      <td>5391.21</td>\n",
       "      <td>372</td>\n",
       "      <td>1733</td>\n",
       "      <td>0.090909</td>\n",
       "      <td>40</td>\n",
       "      <td>7</td>\n",
       "    </tr>\n",
       "    <tr>\n",
       "      <th>1</th>\n",
       "      <td>13047</td>\n",
       "      <td>3232.59</td>\n",
       "      <td>56</td>\n",
       "      <td>1390</td>\n",
       "      <td>0.024064</td>\n",
       "      <td>35</td>\n",
       "      <td>5</td>\n",
       "    </tr>\n",
       "    <tr>\n",
       "      <th>2</th>\n",
       "      <td>12583</td>\n",
       "      <td>6705.38</td>\n",
       "      <td>2</td>\n",
       "      <td>5028</td>\n",
       "      <td>0.040107</td>\n",
       "      <td>50</td>\n",
       "      <td>2</td>\n",
       "    </tr>\n",
       "    <tr>\n",
       "      <th>3</th>\n",
       "      <td>13748</td>\n",
       "      <td>948.25</td>\n",
       "      <td>95</td>\n",
       "      <td>439</td>\n",
       "      <td>0.013369</td>\n",
       "      <td>0</td>\n",
       "      <td>4</td>\n",
       "    </tr>\n",
       "    <tr>\n",
       "      <th>4</th>\n",
       "      <td>15100</td>\n",
       "      <td>876.00</td>\n",
       "      <td>333</td>\n",
       "      <td>80</td>\n",
       "      <td>0.008021</td>\n",
       "      <td>22</td>\n",
       "      <td>3</td>\n",
       "    </tr>\n",
       "  </tbody>\n",
       "</table>\n",
       "</div>"
      ],
      "text/plain": [
       "   customer_id  revenue  recency  quantity_items_purchased  frequency  quantity_items_returned  cluster\n",
       "0        17850  5391.21      372                      1733   0.090909                       40        7\n",
       "1        13047  3232.59       56                      1390   0.024064                       35        5\n",
       "2        12583  6705.38        2                      5028   0.040107                       50        2\n",
       "3        13748   948.25       95                       439   0.013369                        0        4\n",
       "4        15100   876.00      333                        80   0.008021                       22        3"
      ]
     },
     "execution_count": 485,
     "metadata": {},
     "output_type": "execute_result"
    }
   ],
   "source": [
    "df9 = df4[cols_select].copy()\n",
    "df9['cluster'] = labels\n",
    "df9.head()"
   ]
  },
  {
   "cell_type": "markdown",
   "id": "826cf50e",
   "metadata": {
    "ExecuteTime": {
     "end_time": "2022-01-03T22:35:35.563684Z",
     "start_time": "2022-01-03T22:35:35.557687Z"
    }
   },
   "source": [
    "## 9.1. Visualization Inspection"
   ]
  },
  {
   "cell_type": "code",
   "execution_count": 486,
   "id": "29333185",
   "metadata": {
    "ExecuteTime": {
     "end_time": "2022-05-26T20:50:54.301039Z",
     "start_time": "2022-05-26T20:50:52.715483Z"
    }
   },
   "outputs": [
    {
     "name": "stderr",
     "output_type": "stream",
     "text": [
      "C:\\Users\\Miguel\\anaconda3\\envs\\pa005\\lib\\site-packages\\sklearn\\base.py:450: UserWarning: X does not have valid feature names, but KMeans was fitted with feature names\n",
      "  warnings.warn(\n"
     ]
    },
    {
     "data": {
      "image/png": "[encoded data removed]",
      "text/plain": [
       "<Figure size 1152x576 with 1 Axes>"
      ]
     },
     "metadata": {},
     "output_type": "display_data"
    }
   ],
   "source": [
    "visualizer = SilhouetteVisualizer(kmeans, color='yellowbrick')\n",
    "visualizer.fit(X)\n",
    "visualizer.finalize();"
   ]
  },
  {
   "cell_type": "markdown",
   "id": "6a3aaa74",
   "metadata": {
    "ExecuteTime": {
     "end_time": "2022-01-03T22:35:35.563684Z",
     "start_time": "2022-01-03T22:35:35.557687Z"
    }
   },
   "source": [
    "## 9.2. Cluster Profile"
   ]
  },
  {
   "cell_type": "code",
   "execution_count": 509,
   "id": "68174388",
   "metadata": {
    "ExecuteTime": {
     "end_time": "2022-05-26T20:58:26.496465Z",
     "start_time": "2022-05-26T20:58:26.452492Z"
    }
   },
   "outputs": [
    {
     "data": {
      "text/html": [
       "<style type=\"text/css\">\n",
       "#T_a181f_row0_col3, #T_a181f_row0_col5, #T_a181f_row1_col4, #T_a181f_row1_col6, #T_a181f_row7_col7 {\n",
       "  background-color: lightgreen;\n",
       "}\n",
       "</style>\n",
       "<table id=\"T_a181f\">\n",
       "  <thead>\n",
       "    <tr>\n",
       "      <th class=\"blank level0\" >&nbsp;</th>\n",
       "      <th id=\"T_a181f_level0_col0\" class=\"col_heading level0 col0\" >cluster</th>\n",
       "      <th id=\"T_a181f_level0_col1\" class=\"col_heading level0 col1\" >count</th>\n",
       "      <th id=\"T_a181f_level0_col2\" class=\"col_heading level0 col2\" >percent</th>\n",
       "      <th id=\"T_a181f_level0_col3\" class=\"col_heading level0 col3\" >revenue</th>\n",
       "      <th id=\"T_a181f_level0_col4\" class=\"col_heading level0 col4\" >recency</th>\n",
       "      <th id=\"T_a181f_level0_col5\" class=\"col_heading level0 col5\" >quantity_items_purchased</th>\n",
       "      <th id=\"T_a181f_level0_col6\" class=\"col_heading level0 col6\" >frequency</th>\n",
       "      <th id=\"T_a181f_level0_col7\" class=\"col_heading level0 col7\" >quantity_items_returned</th>\n",
       "    </tr>\n",
       "  </thead>\n",
       "  <tbody>\n",
       "    <tr>\n",
       "      <th id=\"T_a181f_level0_row0\" class=\"row_heading level0 row0\" >6</th>\n",
       "      <td id=\"T_a181f_row0_col0\" class=\"data row0 col0\" >7</td>\n",
       "      <td id=\"T_a181f_row0_col1\" class=\"data row0 col1\" >417</td>\n",
       "      <td id=\"T_a181f_row0_col2\" class=\"data row0 col2\" >9.637162</td>\n",
       "      <td id=\"T_a181f_row0_col3\" class=\"data row0 col3\" >7003.518034</td>\n",
       "      <td id=\"T_a181f_row0_col4\" class=\"data row0 col4\" >115.143885</td>\n",
       "      <td id=\"T_a181f_row0_col5\" class=\"data row0 col5\" >4109.705036</td>\n",
       "      <td id=\"T_a181f_row0_col6\" class=\"data row0 col6\" >0.029883</td>\n",
       "      <td id=\"T_a181f_row0_col7\" class=\"data row0 col7\" >142.657074</td>\n",
       "    </tr>\n",
       "    <tr>\n",
       "      <th id=\"T_a181f_level0_row1\" class=\"row_heading level0 row1\" >5</th>\n",
       "      <td id=\"T_a181f_row1_col0\" class=\"data row1 col0\" >2</td>\n",
       "      <td id=\"T_a181f_row1_col1\" class=\"data row1 col1\" >440</td>\n",
       "      <td id=\"T_a181f_row1_col2\" class=\"data row1 col2\" >10.168708</td>\n",
       "      <td id=\"T_a181f_row1_col3\" class=\"data row1 col3\" >6156.172364</td>\n",
       "      <td id=\"T_a181f_row1_col4\" class=\"data row1 col4\" >26.577273</td>\n",
       "      <td id=\"T_a181f_row1_col5\" class=\"data row1 col5\" >3811.170455</td>\n",
       "      <td id=\"T_a181f_row1_col6\" class=\"data row1 col6\" >0.042966</td>\n",
       "      <td id=\"T_a181f_row1_col7\" class=\"data row1 col7\" >62.079545</td>\n",
       "    </tr>\n",
       "    <tr>\n",
       "      <th id=\"T_a181f_level0_row2\" class=\"row_heading level0 row2\" >3</th>\n",
       "      <td id=\"T_a181f_row2_col0\" class=\"data row2 col0\" >5</td>\n",
       "      <td id=\"T_a181f_row2_col1\" class=\"data row2 col1\" >555</td>\n",
       "      <td id=\"T_a181f_row2_col2\" class=\"data row2 col2\" >12.826439</td>\n",
       "      <td id=\"T_a181f_row2_col3\" class=\"data row2 col3\" >1986.863225</td>\n",
       "      <td id=\"T_a181f_row2_col4\" class=\"data row2 col4\" >46.592793</td>\n",
       "      <td id=\"T_a181f_row2_col5\" class=\"data row2 col5\" >1201.798198</td>\n",
       "      <td id=\"T_a181f_row2_col6\" class=\"data row2 col6\" >0.024044</td>\n",
       "      <td id=\"T_a181f_row2_col7\" class=\"data row2 col7\" >20.891892</td>\n",
       "    </tr>\n",
       "    <tr>\n",
       "      <th id=\"T_a181f_level0_row3\" class=\"row_heading level0 row3\" >2</th>\n",
       "      <td id=\"T_a181f_row3_col0\" class=\"data row3 col0\" >6</td>\n",
       "      <td id=\"T_a181f_row3_col1\" class=\"data row3 col1\" >644</td>\n",
       "      <td id=\"T_a181f_row3_col2\" class=\"data row3 col2\" >14.883291</td>\n",
       "      <td id=\"T_a181f_row3_col3\" class=\"data row3 col3\" >1183.148866</td>\n",
       "      <td id=\"T_a181f_row3_col4\" class=\"data row3 col4\" >63.069876</td>\n",
       "      <td id=\"T_a181f_row3_col5\" class=\"data row3 col5\" >671.934783</td>\n",
       "      <td id=\"T_a181f_row3_col6\" class=\"data row3 col6\" >0.024973</td>\n",
       "      <td id=\"T_a181f_row3_col7\" class=\"data row3 col7\" >12.152174</td>\n",
       "    </tr>\n",
       "    <tr>\n",
       "      <th id=\"T_a181f_level0_row4\" class=\"row_heading level0 row4\" >4</th>\n",
       "      <td id=\"T_a181f_row4_col0\" class=\"data row4 col0\" >4</td>\n",
       "      <td id=\"T_a181f_row4_col1\" class=\"data row4 col1\" >486</td>\n",
       "      <td id=\"T_a181f_row4_col2\" class=\"data row4 col2\" >11.231800</td>\n",
       "      <td id=\"T_a181f_row4_col3\" class=\"data row4 col3\" >825.630885</td>\n",
       "      <td id=\"T_a181f_row4_col4\" class=\"data row4 col4\" >91.216049</td>\n",
       "      <td id=\"T_a181f_row4_col5\" class=\"data row4 col5\" >405.981481</td>\n",
       "      <td id=\"T_a181f_row4_col6\" class=\"data row4 col6\" >0.019700</td>\n",
       "      <td id=\"T_a181f_row4_col7\" class=\"data row4 col7\" >9.604938</td>\n",
       "    </tr>\n",
       "    <tr>\n",
       "      <th id=\"T_a181f_level0_row5\" class=\"row_heading level0 row5\" >0</th>\n",
       "      <td id=\"T_a181f_row5_col0\" class=\"data row5 col0\" >1</td>\n",
       "      <td id=\"T_a181f_row5_col1\" class=\"data row5 col1\" >700</td>\n",
       "      <td id=\"T_a181f_row5_col2\" class=\"data row5 col2\" >16.177490</td>\n",
       "      <td id=\"T_a181f_row5_col3\" class=\"data row5 col3\" >433.549286</td>\n",
       "      <td id=\"T_a181f_row5_col4\" class=\"data row5 col4\" >110.570000</td>\n",
       "      <td id=\"T_a181f_row5_col5\" class=\"data row5 col5\" >230.840000</td>\n",
       "      <td id=\"T_a181f_row5_col6\" class=\"data row5 col6\" >0.019724</td>\n",
       "      <td id=\"T_a181f_row5_col7\" class=\"data row5 col7\" >1.642857</td>\n",
       "    </tr>\n",
       "    <tr>\n",
       "      <th id=\"T_a181f_level0_row6\" class=\"row_heading level0 row6\" >7</th>\n",
       "      <td id=\"T_a181f_row6_col0\" class=\"data row6 col0\" >0</td>\n",
       "      <td id=\"T_a181f_row6_col1\" class=\"data row6 col1\" >396</td>\n",
       "      <td id=\"T_a181f_row6_col2\" class=\"data row6 col2\" >9.151837</td>\n",
       "      <td id=\"T_a181f_row6_col3\" class=\"data row6 col3\" >426.593914</td>\n",
       "      <td id=\"T_a181f_row6_col4\" class=\"data row6 col4\" >112.444444</td>\n",
       "      <td id=\"T_a181f_row6_col5\" class=\"data row6 col5\" >224.992424</td>\n",
       "      <td id=\"T_a181f_row6_col6\" class=\"data row6 col6\" >0.021596</td>\n",
       "      <td id=\"T_a181f_row6_col7\" class=\"data row6 col7\" >1.282828</td>\n",
       "    </tr>\n",
       "    <tr>\n",
       "      <th id=\"T_a181f_level0_row7\" class=\"row_heading level0 row7\" >1</th>\n",
       "      <td id=\"T_a181f_row7_col0\" class=\"data row7 col0\" >3</td>\n",
       "      <td id=\"T_a181f_row7_col1\" class=\"data row7 col1\" >689</td>\n",
       "      <td id=\"T_a181f_row7_col2\" class=\"data row7 col2\" >15.923272</td>\n",
       "      <td id=\"T_a181f_row7_col3\" class=\"data row7 col3\" >218.807126</td>\n",
       "      <td id=\"T_a181f_row7_col4\" class=\"data row7 col4\" >154.248186</td>\n",
       "      <td id=\"T_a181f_row7_col5\" class=\"data row7 col5\" >89.432511</td>\n",
       "      <td id=\"T_a181f_row7_col6\" class=\"data row7 col6\" >0.019331</td>\n",
       "      <td id=\"T_a181f_row7_col7\" class=\"data row7 col7\" >0.560232</td>\n",
       "    </tr>\n",
       "  </tbody>\n",
       "</table>\n"
      ],
      "text/plain": [
       "<pandas.io.formats.style.Styler at 0x24abcbe9670>"
      ]
     },
     "execution_count": 509,
     "metadata": {},
     "output_type": "execute_result"
    }
   ],
   "source": [
    "# Number of customers\n",
    "df_profile = pd.DataFrame({'count': df9['cluster'].value_counts(), \n",
    "                                    'percent': df9['cluster'].value_counts(normalize=True) * 100})\n",
    "\n",
    "df_profile.index.name = 'cluster'\n",
    "\n",
    "df_profile = df_profile.reset_index()\n",
    "\n",
    "# Average in other metrics\n",
    "average_metrics_by_cluster = df9.drop(columns=['customer_id']).groupby('cluster').mean().reset_index()\n",
    "\n",
    "\n",
    "df_profile = df_profile.merge(average_metrics_by_cluster, on='cluster').sort_values('revenue', ascending=False)\n",
    "\n",
    "df_profile.style.highlight_max(\n",
    "    subset=['revenue', 'quantity_items_purchased', 'frequency'], color='lightgreen', axis=0).highlight_min(\n",
    "    subset=['recency', 'quantity_items_returned'], color='lightgreen', axis=0)"
   ]
  },
  {
   "cell_type": "code",
   "execution_count": null,
   "id": "c52c728a",
   "metadata": {
    "ExecuteTime": {
     "end_time": "2022-05-26T19:55:28.105641Z",
     "start_time": "2022-05-26T19:55:28.105641Z"
    }
   },
   "outputs": [],
   "source": [
    "# 2 Cluster Insiders\n",
    "# 2 Cluster More Items\n",
    "# 5 Cluster Less Days\n",
    "# 7 Cluster Even More Items\n",
    "# 0 Cluster More Spend\n",
    "# 1 Cluster More Items and Money\n",
    "# 3 Cluster Almost the worst\n",
    "# 4 Cluster More Everything"
   ]
  },
  {
   "cell_type": "code",
   "execution_count": 489,
   "id": "2f6923e4",
   "metadata": {
    "ExecuteTime": {
     "end_time": "2022-05-26T20:52:15.758131Z",
     "start_time": "2022-05-26T20:52:15.741119Z"
    }
   },
   "outputs": [
    {
     "name": "stdout",
     "output_type": "stream",
     "text": [
      "Cluster 7\n",
      "Número de clientes: 417 (9.64% da base)\n",
      "Recência em média: 115.14 dias\n",
      "Frequência média: 0.03 compras\n",
      "Receita em média: U$ 7,003.52\n",
      "\n",
      "\n",
      "Cluster 2\n",
      "Número de clientes: 440 (10.17% da base)\n",
      "Recência em média: 26.58 dias\n",
      "Frequência média: 0.04 compras\n",
      "Receita em média: U$ 6,156.17\n",
      "\n",
      "\n",
      "Cluster 5\n",
      "Número de clientes: 555 (12.83% da base)\n",
      "Recência em média: 46.59 dias\n",
      "Frequência média: 0.02 compras\n",
      "Receita em média: U$ 1,986.86\n",
      "\n",
      "\n",
      "Cluster 6\n",
      "Número de clientes: 644 (14.88% da base)\n",
      "Recência em média: 63.07 dias\n",
      "Frequência média: 0.02 compras\n",
      "Receita em média: U$ 1,183.15\n",
      "\n",
      "\n",
      "Cluster 4\n",
      "Número de clientes: 486 (11.23% da base)\n",
      "Recência em média: 91.22 dias\n",
      "Frequência média: 0.02 compras\n",
      "Receita em média: U$ 825.63\n",
      "\n",
      "\n",
      "Cluster 1\n",
      "Número de clientes: 700 (16.18% da base)\n",
      "Recência em média: 110.57 dias\n",
      "Frequência média: 0.02 compras\n",
      "Receita em média: U$ 433.55\n",
      "\n",
      "\n",
      "Cluster 0\n",
      "Número de clientes: 396 (9.15% da base)\n",
      "Recência em média: 112.44 dias\n",
      "Frequência média: 0.02 compras\n",
      "Receita em média: U$ 426.59\n",
      "\n",
      "\n",
      "Cluster 3\n",
      "Número de clientes: 689 (15.92% da base)\n",
      "Recência em média: 154.25 dias\n",
      "Frequência média: 0.02 compras\n",
      "Receita em média: U$ 218.81\n",
      "\n",
      "\n"
     ]
    }
   ],
   "source": [
    "for _,linha in df_profile.iterrows():\n",
    "    print(f\"Cluster {linha['cluster']:.0f}\")\n",
    "    print(f\"Número de clientes: {linha['count']:.0f} ({linha['percent']:.2f}% da base)\")\n",
    "    print(f\"Recência em média: {linha['recency']:.2f} dias\")\n",
    "    print(f\"Frequência média: {linha['frequency']:.2f} compras\")\n",
    "    print(f\"Receita em média: U$ {linha['revenue']:,.2f}\")\n",
    "    print('\\n')"
   ]
  },
  {
   "cell_type": "markdown",
   "id": "39b3d951",
   "metadata": {},
   "source": [
    "# 10.0. PASSO 10 - EDA"
   ]
  },
  {
   "cell_type": "code",
   "execution_count": 490,
   "id": "dd6afa83",
   "metadata": {
    "ExecuteTime": {
     "end_time": "2022-05-26T20:52:18.943875Z",
     "start_time": "2022-05-26T20:52:18.938877Z"
    }
   },
   "outputs": [],
   "source": [
    "df10 = df9.copy()"
   ]
  },
  {
   "cell_type": "markdown",
   "id": "e58a86a6",
   "metadata": {},
   "source": [
    "## 10.1. MindMap de Hipóteses"
   ]
  },
  {
   "cell_type": "markdown",
   "id": "3bca0c44",
   "metadata": {},
   "source": [
    "1. Fenômeno\n",
    "2. Entidades (Cliente, Produto, etc)\n",
    "3. Características da Entidade( Cliente --> Nome, Salário, Idade, etc)"
   ]
  },
  {
   "cell_type": "code",
   "execution_count": null,
   "id": "53d96c47",
   "metadata": {},
   "outputs": [],
   "source": []
  },
  {
   "cell_type": "markdown",
   "id": "c6ee5a7a",
   "metadata": {},
   "source": [
    "## 10.2. Hipóteses de Negócio"
   ]
  },
  {
   "cell_type": "markdown",
   "id": "6d97469b",
   "metadata": {},
   "source": [
    "1. Afirmação\n",
    "2. Comparação entre variáveis\n",
    "3. Valor base de comparação"
   ]
  },
  {
   "cell_type": "markdown",
   "id": "602bc2d2",
   "metadata": {},
   "source": [
    "- Cluster insiders é o cluster 1"
   ]
  },
  {
   "cell_type": "code",
   "execution_count": 516,
   "id": "e0f9f9de",
   "metadata": {
    "ExecuteTime": {
     "end_time": "2022-05-26T21:02:37.898481Z",
     "start_time": "2022-05-26T21:02:37.875496Z"
    }
   },
   "outputs": [],
   "source": [
    "cluster_insiders = 2\n",
    "df10['is_insider'] = df10['cluster'].apply(lambda x: 'yes' if x == cluster_insiders else 'no')"
   ]
  },
  {
   "cell_type": "markdown",
   "id": "caac9468",
   "metadata": {},
   "source": [
    "### Hipóteses Compra"
   ]
  },
  {
   "cell_type": "markdown",
   "id": "af00259d",
   "metadata": {},
   "source": [
    "1. Os clientes do cluster insiders usam cartão de crédito em 80% das compras.\n",
    "\n",
    "2. **Os clientes do cluster Insiders possuem um ticket médio 10% maior que os outros clientes.**\n",
    "\n",
    "3. **Os clientes do cluster Insiders possuem um basket size médio acima de 10 produtos.**\n",
    "\n",
    "4. **Os clientes do cluster Insiders possuem um volume de compras (produtos) que corresponde a mais de 48% (3x sua representativade) do total de compras.**\n",
    "\n",
    "5. **Os clientes do cluster Insiders possuem um volume de compras que (faturamento) corresponde a mais de 48% (3x sua representativade) do total de compras.**\n",
    "\n",
    "6. **Os clientes do cluster Insiders possuem uma taxa devolução abaixo da média da base total de clientes.**\n",
    "\n",
    "7. **A mediana do faturamento dos clientes do cluster insiders é 20% maior do que a mediana do faturamento dos outros clientes.**"
   ]
  },
  {
   "cell_type": "markdown",
   "id": "ea18d82e",
   "metadata": {},
   "source": [
    "### Hipóteses Cliente"
   ]
  },
  {
   "cell_type": "markdown",
   "id": "38f7faf1",
   "metadata": {},
   "source": [
    "1. 60% dos clientes do cluster insiders são casados.\n",
    "2. 20% dos clientes do cluster insiders estão na faixa de 24-35 anos.\n",
    "3. 40% dos clientes do cluster insiders estão dentro do raio de 50KM de um centro de distribuição.\n",
    "4. 95% dos clientes do cluster insiders são do Reino Unido. \n",
    "5. 60% dos clientes do cluster insiders recebem mais de 100 mil anualmente."
   ]
  },
  {
   "cell_type": "markdown",
   "id": "f27cffa1",
   "metadata": {},
   "source": [
    "### Hipóteses Produto"
   ]
  },
  {
   "cell_type": "markdown",
   "id": "6d528789",
   "metadata": {
    "ExecuteTime": {
     "end_time": "2022-05-07T21:21:08.692861Z",
     "start_time": "2022-05-07T21:21:08.625898Z"
    }
   },
   "source": [
    "1. 30% de todos os produtos em pacotes grandes são comprados pelos clientes do cluster insiders.\n",
    "2. A mediana dos preços dos produtos comprados pelos clientes do cluster insiders é 10% maior do que a mediana de todos os preços dos produtos.\n",
    "3. O percentil do preço dos produtos dos clientes do cluster insiders.\n",
    "4. O peso médio dos produtos comprados pelos clientes dos cluster insiders é maior que o peso médio dos produtos comprados por outros clusters.\n",
    "5. A idade média dos produtos comprados pelos clientes do cluster insiders é menor que a idade média dos produtos comprados por outros clusters(data de criação)."
   ]
  },
  {
   "cell_type": "markdown",
   "id": "ba1533ec",
   "metadata": {
    "heading_collapsed": true
   },
   "source": [
    "### Perguntas de Negócio"
   ]
  },
  {
   "cell_type": "markdown",
   "id": "8d12a029",
   "metadata": {
    "hidden": true
   },
   "source": [
    "1. Quem são as pessoas elegíveis para participar do programa de Insiders ?\n",
    "2. Quantos clientes farão parte do grupo?\n",
    "3. Quais as principais características desses clientes ?\n",
    "4. Qual a porcentagem de contribuição do faturamento, vinda do Insiders ?\n",
    "5. Qual a expectativa de faturamento desse grupo para os próximos meses ?\n",
    "6. Quais as condições para uma pessoa ser elegível ao Insiders ?\n",
    "7. Quais as condições para uma pessoa ser removida do Insiders ?\n",
    "8. Qual a garantia que o programa Insiders é melhor que o restante da base ?\n",
    "9. Quais ações o time de marketing pode realizar para aumentar o faturamento?"
   ]
  },
  {
   "cell_type": "markdown",
   "id": "e926a18a",
   "metadata": {},
   "source": [
    "### Priorização das Hipóteses"
   ]
  },
  {
   "cell_type": "markdown",
   "id": "c469c6fd",
   "metadata": {},
   "source": [
    "1. Há dados para avaliar?\n",
    "2. É um insight acionável?\n",
    "3. Vai de encontro com as perguntas que precisamos responder?"
   ]
  },
  {
   "cell_type": "markdown",
   "id": "62a44246",
   "metadata": {},
   "source": [
    "## 10.3. Validação das Hipóteses"
   ]
  },
  {
   "cell_type": "markdown",
   "id": "c77c9213",
   "metadata": {},
   "source": [
    "### H1. **Os clientes do cluster Insiders possuem um ticket médio 10% maior que os outros clientes.**"
   ]
  },
  {
   "cell_type": "markdown",
   "id": "79d41d2a",
   "metadata": {
    "ExecuteTime": {
     "end_time": "2022-05-26T20:31:50.488427Z",
     "start_time": "2022-05-26T20:31:50.381418Z"
    }
   },
   "source": [
    "df10['ticket_per_order'] = df10['revenue'] / df10['quantity_orders']\n",
    "\n",
    "df_ticket_by_cluster = df10[['is_insider', 'ticket_per_order']].groupby('is_insider').mean().reset_index()\n",
    "display(df_ticket_by_cluster)\n",
    "print(f\"Verdadeiro, o cluster insiders possui um ticket {df_ticket_by_cluster['ticket_per_order'].pct_change()[1]:.1%} maior do que os outros clientes.\")"
   ]
  },
  {
   "cell_type": "markdown",
   "id": "87718d93",
   "metadata": {},
   "source": [
    "### H2. **Os clientes do cluster Insiders possuem um basket size médio acima de 10 produtos.**"
   ]
  },
  {
   "cell_type": "code",
   "execution_count": 341,
   "id": "787efb00",
   "metadata": {
    "ExecuteTime": {
     "end_time": "2022-05-26T20:13:32.232736Z",
     "start_time": "2022-05-26T20:13:32.208750Z"
    }
   },
   "outputs": [
    {
     "name": "stdout",
     "output_type": "stream",
     "text": [
      "Verdadeiro, o cluster insiders tem um basket size médio de 433 produtos.\n"
     ]
    }
   ],
   "source": [
    "df10['avg_basket_size'] = df10['quantity_items_purchased'] / df10['quantity_orders']\n",
    "print(f\"Verdadeiro, o cluster insiders tem um basket size médio de {df10.loc[df10['is_insider'] == 'yes','avg_basket_size'].mean():.0f} produtos.\")"
   ]
  },
  {
   "cell_type": "markdown",
   "id": "d1fab3ae",
   "metadata": {},
   "source": [
    "### H3. **Os clientes do cluster Insiders possuem um volume de compras (produtos) que corresponde a mais de 30% (3x sua representativade) do total de compras.**"
   ]
  },
  {
   "cell_type": "code",
   "execution_count": 493,
   "id": "886bd43d",
   "metadata": {
    "ExecuteTime": {
     "end_time": "2022-05-26T20:52:35.617851Z",
     "start_time": "2022-05-26T20:52:35.579896Z"
    }
   },
   "outputs": [
    {
     "data": {
      "text/html": [
       "<div>\n",
       "<style scoped>\n",
       "    .dataframe tbody tr th:only-of-type {\n",
       "        vertical-align: middle;\n",
       "    }\n",
       "\n",
       "    .dataframe tbody tr th {\n",
       "        vertical-align: top;\n",
       "    }\n",
       "\n",
       "    .dataframe thead th {\n",
       "        text-align: right;\n",
       "    }\n",
       "</style>\n",
       "<table border=\"1\" class=\"dataframe\">\n",
       "  <thead>\n",
       "    <tr style=\"text-align: right;\">\n",
       "      <th></th>\n",
       "      <th>is_insider</th>\n",
       "      <th>quantity_items_purchased</th>\n",
       "      <th>percent_of_products</th>\n",
       "    </tr>\n",
       "  </thead>\n",
       "  <tbody>\n",
       "    <tr>\n",
       "      <th>0</th>\n",
       "      <td>no</td>\n",
       "      <td>3323082</td>\n",
       "      <td>0.6646</td>\n",
       "    </tr>\n",
       "    <tr>\n",
       "      <th>1</th>\n",
       "      <td>yes</td>\n",
       "      <td>1676915</td>\n",
       "      <td>0.3354</td>\n",
       "    </tr>\n",
       "  </tbody>\n",
       "</table>\n",
       "</div>"
      ],
      "text/plain": [
       "  is_insider  quantity_items_purchased  percent_of_products\n",
       "0         no                   3323082               0.6646\n",
       "1        yes                   1676915               0.3354"
      ]
     },
     "metadata": {},
     "output_type": "display_data"
    },
    {
     "name": "stdout",
     "output_type": "stream",
     "text": [
      "Verdadeiro, o cluster insiders correponde a 33.54% da quantidade de produtos total.\n"
     ]
    }
   ],
   "source": [
    "df_n_items_by_cluster = df10[['is_insider' ,'quantity_items_purchased']].groupby('is_insider').sum().reset_index()\n",
    "\n",
    "df_n_items_by_cluster['percent_of_products'] = round((df_n_items_by_cluster['quantity_items_purchased'] / df_n_items_by_cluster['quantity_items_purchased'].sum()), 4)\n",
    "\n",
    "display(df_n_items_by_cluster)\n",
    "print(f\"Verdadeiro, o cluster insiders correponde a {df_n_items_by_cluster.loc[df_n_items_by_cluster['is_insider'] == 'yes','percent_of_products'].values[0]:.2%} da quantidade de produtos total.\")"
   ]
  },
  {
   "cell_type": "markdown",
   "id": "5b31dbd3",
   "metadata": {},
   "source": [
    "### H4. **Os clientes do cluster Insiders possuem um volume de compras que (faturamento) corresponde a mais de 30% (3x sua representativade) do total de compras.**"
   ]
  },
  {
   "cell_type": "code",
   "execution_count": 494,
   "id": "10404629",
   "metadata": {
    "ExecuteTime": {
     "end_time": "2022-05-26T20:52:45.692577Z",
     "start_time": "2022-05-26T20:52:45.660595Z"
    }
   },
   "outputs": [
    {
     "data": {
      "text/html": [
       "<div>\n",
       "<style scoped>\n",
       "    .dataframe tbody tr th:only-of-type {\n",
       "        vertical-align: middle;\n",
       "    }\n",
       "\n",
       "    .dataframe tbody tr th {\n",
       "        vertical-align: top;\n",
       "    }\n",
       "\n",
       "    .dataframe thead th {\n",
       "        text-align: right;\n",
       "    }\n",
       "</style>\n",
       "<table border=\"1\" class=\"dataframe\">\n",
       "  <thead>\n",
       "    <tr style=\"text-align: right;\">\n",
       "      <th></th>\n",
       "      <th>is_insider</th>\n",
       "      <th>revenue</th>\n",
       "      <th>percent_of_revenue</th>\n",
       "    </tr>\n",
       "  </thead>\n",
       "  <tbody>\n",
       "    <tr>\n",
       "      <th>0</th>\n",
       "      <td>no</td>\n",
       "      <td>5809554.39</td>\n",
       "      <td>0.682</td>\n",
       "    </tr>\n",
       "    <tr>\n",
       "      <th>1</th>\n",
       "      <td>yes</td>\n",
       "      <td>2708715.84</td>\n",
       "      <td>0.318</td>\n",
       "    </tr>\n",
       "  </tbody>\n",
       "</table>\n",
       "</div>"
      ],
      "text/plain": [
       "  is_insider     revenue  percent_of_revenue\n",
       "0         no  5809554.39               0.682\n",
       "1        yes  2708715.84               0.318"
      ]
     },
     "metadata": {},
     "output_type": "display_data"
    },
    {
     "name": "stdout",
     "output_type": "stream",
     "text": [
      "Verdadeiro, o cluster insiders correponde a 31.80% do volume total de vendas(monetário).\n"
     ]
    }
   ],
   "source": [
    "df_revenue_per_cluster = df10[['is_insider' ,'revenue']].groupby('is_insider').sum().reset_index()\n",
    "\n",
    "df_revenue_per_cluster['percent_of_revenue'] = round((df_revenue_per_cluster['revenue'] / df_revenue_per_cluster['revenue'].sum()), 4)\n",
    "\n",
    "display(df_revenue_per_cluster)\n",
    "print(f\"Verdadeiro, o cluster insiders correponde a {df_revenue_per_cluster.loc[df_revenue_per_cluster['is_insider'] == 'yes','percent_of_revenue'].values[0]:.2%} do volume total de vendas(monetário).\")"
   ]
  },
  {
   "cell_type": "markdown",
   "id": "1f680dfc",
   "metadata": {},
   "source": [
    "### H5. **Os clientes do cluster Insiders possuem uma taxa devolução abaixo da média dos outros clientes.**"
   ]
  },
  {
   "cell_type": "code",
   "execution_count": 496,
   "id": "28c2193f",
   "metadata": {
    "ExecuteTime": {
     "end_time": "2022-05-26T20:53:14.518386Z",
     "start_time": "2022-05-26T20:53:14.486403Z"
    },
    "scrolled": true
   },
   "outputs": [
    {
     "data": {
      "text/html": [
       "<div>\n",
       "<style scoped>\n",
       "    .dataframe tbody tr th:only-of-type {\n",
       "        vertical-align: middle;\n",
       "    }\n",
       "\n",
       "    .dataframe tbody tr th {\n",
       "        vertical-align: top;\n",
       "    }\n",
       "\n",
       "    .dataframe thead th {\n",
       "        text-align: right;\n",
       "    }\n",
       "</style>\n",
       "<table border=\"1\" class=\"dataframe\">\n",
       "  <thead>\n",
       "    <tr style=\"text-align: right;\">\n",
       "      <th></th>\n",
       "      <th>is_insider</th>\n",
       "      <th>return_rate</th>\n",
       "    </tr>\n",
       "  </thead>\n",
       "  <tbody>\n",
       "    <tr>\n",
       "      <th>0</th>\n",
       "      <td>no</td>\n",
       "      <td>0.017383</td>\n",
       "    </tr>\n",
       "    <tr>\n",
       "      <th>1</th>\n",
       "      <td>yes</td>\n",
       "      <td>0.015335</td>\n",
       "    </tr>\n",
       "  </tbody>\n",
       "</table>\n",
       "</div>"
      ],
      "text/plain": [
       "  is_insider  return_rate\n",
       "0         no     0.017383\n",
       "1        yes     0.015335"
      ]
     },
     "metadata": {},
     "output_type": "display_data"
    },
    {
     "name": "stdout",
     "output_type": "stream",
     "text": [
      "Verdadeiro, o cluster insiders possui uma taxa de devolução abaixo da média do outros outros clientes.\n"
     ]
    }
   ],
   "source": [
    "df10['return_rate'] = df10['quantity_items_returned'] / df10['quantity_items_purchased'] \n",
    "\n",
    "df_return_rate_by_cluster = df10[['is_insider' ,'return_rate']].groupby('is_insider').mean().reset_index()\n",
    "\n",
    "display(df_return_rate_by_cluster)\n",
    "\n",
    "print(f\"Verdadeiro, o cluster insiders possui uma taxa de devolução abaixo da média do outros outros clientes.\")"
   ]
  },
  {
   "cell_type": "markdown",
   "id": "400a8ebe",
   "metadata": {},
   "source": [
    "### H6. **A mediana do faturamento dos clientes do cluster insiders é 20% maior do que a mediana do faturamento dos outros clientes.**"
   ]
  },
  {
   "cell_type": "code",
   "execution_count": 498,
   "id": "382a6a02",
   "metadata": {
    "ExecuteTime": {
     "end_time": "2022-05-26T20:53:37.299971Z",
     "start_time": "2022-05-26T20:53:37.277983Z"
    },
    "scrolled": true
   },
   "outputs": [
    {
     "data": {
      "text/html": [
       "<div>\n",
       "<style scoped>\n",
       "    .dataframe tbody tr th:only-of-type {\n",
       "        vertical-align: middle;\n",
       "    }\n",
       "\n",
       "    .dataframe tbody tr th {\n",
       "        vertical-align: top;\n",
       "    }\n",
       "\n",
       "    .dataframe thead th {\n",
       "        text-align: right;\n",
       "    }\n",
       "</style>\n",
       "<table border=\"1\" class=\"dataframe\">\n",
       "  <thead>\n",
       "    <tr style=\"text-align: right;\">\n",
       "      <th></th>\n",
       "      <th>is_insider</th>\n",
       "      <th>revenue</th>\n",
       "    </tr>\n",
       "  </thead>\n",
       "  <tbody>\n",
       "    <tr>\n",
       "      <th>0</th>\n",
       "      <td>no</td>\n",
       "      <td>575.63</td>\n",
       "    </tr>\n",
       "    <tr>\n",
       "      <th>1</th>\n",
       "      <td>yes</td>\n",
       "      <td>5012.56</td>\n",
       "    </tr>\n",
       "  </tbody>\n",
       "</table>\n",
       "</div>"
      ],
      "text/plain": [
       "  is_insider  revenue\n",
       "0         no   575.63\n",
       "1        yes  5012.56"
      ]
     },
     "metadata": {},
     "output_type": "display_data"
    },
    {
     "name": "stdout",
     "output_type": "stream",
     "text": [
      "Verdadeiro, o cluster insiders possui a mediana 770.8% maior do que os outros clientes.\n"
     ]
    }
   ],
   "source": [
    "df_median_by_cluster = df10[['is_insider' ,'revenue']].groupby('is_insider').median().reset_index()\n",
    "\n",
    "display(df_median_by_cluster)\n",
    "print(f\"Verdadeiro, o cluster insiders possui a mediana {((df_median_by_cluster['revenue'].pct_change()[1]**2)**0.5):.1%} maior do que os outros clientes.\")"
   ]
  },
  {
   "cell_type": "markdown",
   "id": "3a85c5c7",
   "metadata": {},
   "source": [
    "## 10.4. Respondendo Perguntas de Negócio"
   ]
  },
  {
   "cell_type": "markdown",
   "id": "94c4ff49",
   "metadata": {},
   "source": [
    "### 1. Quem são as pessoas elegíveis para participar do programa de Insiders ?"
   ]
  },
  {
   "cell_type": "code",
   "execution_count": 499,
   "id": "83529bb7",
   "metadata": {
    "ExecuteTime": {
     "end_time": "2022-05-26T20:53:42.057698Z",
     "start_time": "2022-05-26T20:53:42.036689Z"
    }
   },
   "outputs": [
    {
     "data": {
      "text/plain": [
       "2     12583\n",
       "5     15291\n",
       "6     14688\n",
       "7     17809\n",
       "14    12431\n",
       "Name: customer_id, dtype: int64"
      ]
     },
     "execution_count": 499,
     "metadata": {},
     "output_type": "execute_result"
    }
   ],
   "source": [
    "df10.loc[df10['is_insider'] == 'yes', 'customer_id'].head()"
   ]
  },
  {
   "cell_type": "markdown",
   "id": "01f82b97",
   "metadata": {},
   "source": [
    "### 2. Quantos clientes farão parte do grupo?"
   ]
  },
  {
   "cell_type": "code",
   "execution_count": 500,
   "id": "50721aeb",
   "metadata": {
    "ExecuteTime": {
     "end_time": "2022-05-26T20:53:44.383475Z",
     "start_time": "2022-05-26T20:53:44.364483Z"
    }
   },
   "outputs": [
    {
     "name": "stdout",
     "output_type": "stream",
     "text": [
      "Farão parte do cluster insiders: 440 clientes (10.17% do total).\n"
     ]
    }
   ],
   "source": [
    "line_insiders = df_profile.loc[df_profile['cluster'] == cluster_insiders]\n",
    "print(f\"Farão parte do cluster insiders: {line_insiders['count'].values[0]} clientes ({line_insiders['percent'].values[0]:.2f}% do total).\")"
   ]
  },
  {
   "cell_type": "markdown",
   "id": "e828993b",
   "metadata": {},
   "source": [
    "### 3. Quais as principais características desses clientes ?"
   ]
  },
  {
   "cell_type": "code",
   "execution_count": 501,
   "id": "8bcfeed6",
   "metadata": {
    "ExecuteTime": {
     "end_time": "2022-05-26T20:53:47.168968Z",
     "start_time": "2022-05-26T20:53:47.141971Z"
    }
   },
   "outputs": [
    {
     "data": {
      "text/html": [
       "<div>\n",
       "<style scoped>\n",
       "    .dataframe tbody tr th:only-of-type {\n",
       "        vertical-align: middle;\n",
       "    }\n",
       "\n",
       "    .dataframe tbody tr th {\n",
       "        vertical-align: top;\n",
       "    }\n",
       "\n",
       "    .dataframe thead th {\n",
       "        text-align: right;\n",
       "    }\n",
       "</style>\n",
       "<table border=\"1\" class=\"dataframe\">\n",
       "  <thead>\n",
       "    <tr style=\"text-align: right;\">\n",
       "      <th></th>\n",
       "      <th>count</th>\n",
       "      <th>percent</th>\n",
       "      <th>revenue</th>\n",
       "      <th>recency</th>\n",
       "      <th>quantity_items_purchased</th>\n",
       "      <th>frequency</th>\n",
       "      <th>quantity_items_returned</th>\n",
       "    </tr>\n",
       "  </thead>\n",
       "  <tbody>\n",
       "    <tr>\n",
       "      <th>5</th>\n",
       "      <td>440</td>\n",
       "      <td>10.168708</td>\n",
       "      <td>6156.172364</td>\n",
       "      <td>26.577273</td>\n",
       "      <td>3811.170455</td>\n",
       "      <td>0.042966</td>\n",
       "      <td>62.079545</td>\n",
       "    </tr>\n",
       "  </tbody>\n",
       "</table>\n",
       "</div>"
      ],
      "text/plain": [
       "   count    percent      revenue    recency  quantity_items_purchased  frequency  quantity_items_returned\n",
       "5    440  10.168708  6156.172364  26.577273               3811.170455   0.042966                62.079545"
      ]
     },
     "execution_count": 501,
     "metadata": {},
     "output_type": "execute_result"
    }
   ],
   "source": [
    "line_insiders.drop(columns=['cluster'])"
   ]
  },
  {
   "cell_type": "markdown",
   "id": "5e7a4b46",
   "metadata": {},
   "source": [
    "### 4. Qual a porcentagem de contribuição do faturamento, vinda do Insiders ?"
   ]
  },
  {
   "cell_type": "code",
   "execution_count": 502,
   "id": "779cc1f8",
   "metadata": {
    "ExecuteTime": {
     "end_time": "2022-05-26T20:53:54.527026Z",
     "start_time": "2022-05-26T20:53:54.499042Z"
    }
   },
   "outputs": [
    {
     "name": "stdout",
     "output_type": "stream",
     "text": [
      "O cluster insiders correponde a 31.80% do volume total de vendas(monetário).\n"
     ]
    }
   ],
   "source": [
    "df_revenue_per_cluster = df10[['is_insider' ,'revenue']].groupby('is_insider').sum().reset_index()\n",
    "\n",
    "df_revenue_per_cluster['percent_of_revenue'] = round((df_revenue_per_cluster['revenue'] / df_revenue_per_cluster['revenue'].sum()), 4)\n",
    "\n",
    "# display(df_revenue_per_cluster)\n",
    "print(f\"O cluster insiders correponde a {df_revenue_per_cluster.loc[df_revenue_per_cluster['is_insider'] == 'yes','percent_of_revenue'].values[0]:.2%} do volume total de vendas(monetário).\")"
   ]
  },
  {
   "cell_type": "markdown",
   "id": "5b0b368f",
   "metadata": {
    "heading_collapsed": true
   },
   "source": [
    "### 5. Qual a expectativa de faturamento desse grupo para os próximos meses ? --> Próximo Ciclo"
   ]
  },
  {
   "cell_type": "markdown",
   "id": "7dcecf6b",
   "metadata": {},
   "source": [
    "### 6. Quais as condições para uma pessoa ser elegível ao Insiders ?"
   ]
  },
  {
   "cell_type": "code",
   "execution_count": null,
   "id": "6b88e50d",
   "metadata": {
    "ExecuteTime": {
     "end_time": "2022-05-26T19:55:28.186597Z",
     "start_time": "2022-05-26T19:55:28.186597Z"
    }
   },
   "outputs": [],
   "source": [
    "# OFF TOPIC --> Intervalos de confiança\n",
    "from scipy import stats as st\n",
    "\n",
    "df_insiders = df10.loc[df10['cluster'] == cluster_insiders, 'revenue']\n",
    "\n",
    "# Via Bootstrap --> Amostras com repetição\n",
    "st.t.interval(alpha=0.95,\n",
    "             df=len(df_insiders)-1,\n",
    "             loc=np.mean(df_insiders),\n",
    "             scale=st.sem(df_insiders))"
   ]
  },
  {
   "cell_type": "markdown",
   "id": "3c90033a",
   "metadata": {},
   "source": [
    "### 7. Quais as condições para uma pessoa ser removida do Insiders ?"
   ]
  },
  {
   "cell_type": "markdown",
   "id": "186d340a",
   "metadata": {},
   "source": [
    "### 8. Qual a garantia que o programa Insiders é melhor que o restante da base ?"
   ]
  },
  {
   "cell_type": "code",
   "execution_count": null,
   "id": "64bbebd0",
   "metadata": {},
   "outputs": [],
   "source": []
  },
  {
   "cell_type": "markdown",
   "id": "04ae0b35",
   "metadata": {},
   "source": [
    "### 9. Quais ações o time de marketing pode realizar para aumentar o faturamento?"
   ]
  },
  {
   "cell_type": "code",
   "execution_count": null,
   "id": "0de5fbf3",
   "metadata": {},
   "outputs": [],
   "source": []
  },
  {
   "cell_type": "markdown",
   "id": "e4d7b69e",
   "metadata": {
    "heading_collapsed": true
   },
   "source": [
    "# 11.0. PASSO 11 - DEPLOY TO PRODUCTION"
   ]
  }
 ],
 "metadata": {
  "kernelspec": {
   "display_name": "Python 3 (ipykernel)",
   "language": "python",
   "name": "python3"
  },
  "language_info": {
   "codemirror_mode": {
    "name": "ipython",
    "version": 3
   },
   "file_extension": ".py",
   "mimetype": "text/x-python",
   "name": "python",
   "nbconvert_exporter": "python",
   "pygments_lexer": "ipython3",
   "version": "3.9.7"
  },
  "varInspector": {
   "cols": {
    "lenName": 16,
    "lenType": 16,
    "lenVar": 40
   },
   "kernels_config": {
    "python": {
     "delete_cmd_postfix": "",
     "delete_cmd_prefix": "del ",
     "library": "var_list.py",
     "varRefreshCmd": "print(var_dic_list())"
    },
    "r": {
     "delete_cmd_postfix": ") ",
     "delete_cmd_prefix": "rm(",
     "library": "var_list.r",
     "varRefreshCmd": "cat(var_dic_list()) "
    }
   },
   "types_to_exclude": [
    "module",
    "function",
    "builtin_function_or_method",
    "instance",
    "_Feature"
   ],
   "window_display": false
  }
 },
 "nbformat": 4,
 "nbformat_minor": 5
}
